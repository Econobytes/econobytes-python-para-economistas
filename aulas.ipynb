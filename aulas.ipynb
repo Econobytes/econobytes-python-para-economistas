{
  "nbformat": 4,
  "nbformat_minor": 0,
  "metadata": {
    "colab": {
      "name": "Econobytes: Mini-curso de Python para Economistas.ipynb",
      "provenance": [],
      "collapsed_sections": [
        "qZ0zqLQ7-9GQ",
        "xMH_SqgXBULD",
        "8vyalnA3yDOj",
        "Pw60anK9yrSs",
        "TsKOAdOPEh49",
        "KGYSD5etDhkt",
        "uCWUKCWZJjUr",
        "3rKONDYMEzAW",
        "Ho6un4qvyZCP",
        "P60-Anx0e3Y7",
        "HFh-BPqv2eiU",
        "s2YJHjDP7NhK",
        "8SZOJfXXRBWZ",
        "pEyH6ZGoUJ7X",
        "1ptO6bEcUzf_",
        "da81K4ISi3Zr",
        "dlBoZt8ig0NN",
        "yHk-EDfnFV8u"
      ],
      "authorship_tag": "ABX9TyNfwJWB0I1F2w5JTlKkKVQ8",
      "include_colab_link": true
    },
    "kernelspec": {
      "name": "python3",
      "display_name": "Python 3"
    }
  },
  "cells": [
    {
      "cell_type": "markdown",
      "metadata": {
        "id": "view-in-github",
        "colab_type": "text"
      },
      "source": [
        "<a href=\"https://colab.research.google.com/github/pianeiro/econobytes-python-para-economistas/blob/main/aulas.ipynb\" target=\"_parent\"><img src=\"https://colab.research.google.com/assets/colab-badge.svg\" alt=\"Open In Colab\"/></a>"
      ]
    },
    {
      "cell_type": "markdown",
      "metadata": {
        "id": "zYyU7vHqt8Cj"
      },
      "source": [
        "# MINI-CURSO DE PYTHON PARA ECONOMISTAS"
      ]
    },
    {
      "cell_type": "markdown",
      "metadata": {
        "id": "qZ0zqLQ7-9GQ"
      },
      "source": [
        "## Introdução"
      ]
    },
    {
      "cell_type": "markdown",
      "metadata": {
        "id": "ZRgne4G5_ANV"
      },
      "source": [
        "Este notebook é a versão final do arquivo utilizado no mini-curso Python para Economistas, oferecido pelo Econo-bytes, iniciativa da Universidade Federal do Rio Grande - FURG, e ministrado pelo Economista Jeferson Freitas Quadros.\n",
        "\n",
        "O mini-curso abordou o uso mais elementar do Python nas rotinas comuns na Ciência Econômica ao leigo em programação, expondo os conceitos iniciais de lógica da programação, manipulação de dados e regressão linear.\n",
        "\n",
        "Clique [aqui](https://www.youtube.com/playlist?list=PLxPflwAAyQAmDerlOnPWtZga-t8SD-bM0) para acessar às aulas gravadas."
      ]
    },
    {
      "cell_type": "markdown",
      "metadata": {
        "id": "xMH_SqgXBULD"
      },
      "source": [
        "## Revisão de lógica da programação"
      ]
    },
    {
      "cell_type": "markdown",
      "metadata": {
        "id": "qDq5BX1hsQ9Y"
      },
      "source": [
        "Esta é uma breve revisão dos conceitos mais elementares de lógica da programação e apresentação à sintaxe do Python. É altamente recomendável que se assista o curso de [Lógica da Programação, dispoibilizado pelo Econobytes](https://www.youtube.com/playlist?list=PLxPflwAAyQAmnsXNhx6ASguwHVBIfgKRq) para uma melhor compreensão sobre o assunto."
      ]
    },
    {
      "cell_type": "markdown",
      "metadata": {
        "id": "dAjyrf5lBZ6H"
      },
      "source": [
        "### Tipos de variáveis"
      ]
    },
    {
      "cell_type": "markdown",
      "metadata": {
        "id": "7--6tIWLuOrX"
      },
      "source": [
        "_[(Assista aqui.)](https://youtu.be/6IdV_9dp8HQ?t=2290)_ Os principais tipos de variáveis nativos do Python utilizados no curso serão:"
      ]
    },
    {
      "cell_type": "markdown",
      "metadata": {
        "id": "JrqH609juUmT"
      },
      "source": [
        "#### _String_"
      ]
    },
    {
      "cell_type": "markdown",
      "metadata": {
        "id": "h6AsSFqMueT-"
      },
      "source": [
        "String pode ser definida como uma cadeia de caracteres entendida como texto. O que determina uma string é definí-la entre aspas, simples (**'**) ou duplas (**\"**)."
      ]
    },
    {
      "cell_type": "code",
      "metadata": {
        "id": "yv6cwpiL_fX-"
      },
      "source": [
        "minha_string = 'Esta é a minha string, que é uma cadeia de caracteres em forma de texto'"
      ],
      "execution_count": null,
      "outputs": []
    },
    {
      "cell_type": "markdown",
      "metadata": {
        "id": "FCZ58jIavx1Z"
      },
      "source": [
        "#### Inteiro"
      ]
    },
    {
      "cell_type": "markdown",
      "metadata": {
        "id": "_gLwH4PJv1Vh"
      },
      "source": [
        "Um inteiro é uma variável numérica que não admite casas decimais. Matematicamente, refere-se aos números do conjunto dos inteiros, $\\mathbb{Z}$."
      ]
    },
    {
      "cell_type": "code",
      "metadata": {
        "id": "8Oq48pe2CAXq"
      },
      "source": [
        "# Números inteiros são números do conjunto Z\n",
        "numeros_inteiros = 1"
      ],
      "execution_count": null,
      "outputs": []
    },
    {
      "cell_type": "markdown",
      "metadata": {
        "id": "W0U-S_JLw2LW"
      },
      "source": [
        "#### _Float_"
      ]
    },
    {
      "cell_type": "markdown",
      "metadata": {
        "id": "0qNZLNJ4w97q"
      },
      "source": [
        "Float são as variáveis numéricas que admitem fracionamento, ou seja: os demais conjuntos numéricos que não o $\\mathbb{Z}$."
      ]
    },
    {
      "cell_type": "code",
      "metadata": {
        "id": "vYmGuhi5C2zk"
      },
      "source": [
        "# Números float, são do conjunto dos N/R\n",
        "numeros = 1.5"
      ],
      "execution_count": null,
      "outputs": []
    },
    {
      "cell_type": "markdown",
      "metadata": {
        "id": "8vyalnA3yDOj"
      },
      "source": [
        "#### Booleanas"
      ]
    },
    {
      "cell_type": "markdown",
      "metadata": {
        "id": "99BG5z1SyII0"
      },
      "source": [
        "Variáves booleanas admitem os valores verdadeiro e falso, representados pelas palavras reservadas do Python True e False. Estatisticamente, seriam próximas às variáveis de Bernouli."
      ]
    },
    {
      "cell_type": "code",
      "metadata": {
        "id": "IfBFN6lXDCOj"
      },
      "source": [
        "# Variáveis booleanas, assumem o valor True ou False, são análogas às variáveis de Bernouli em estatística\n",
        "booleana = True"
      ],
      "execution_count": null,
      "outputs": []
    },
    {
      "cell_type": "markdown",
      "metadata": {
        "id": "Pw60anK9yrSs"
      },
      "source": [
        "#### Arrays"
      ]
    },
    {
      "cell_type": "markdown",
      "metadata": {
        "id": "qQIo7V5VytqF"
      },
      "source": [
        "Arrays podem ser entendidas como matrizes/vetores pelo viés matemático ou como listas de dados de maneira ampla."
      ]
    },
    {
      "cell_type": "code",
      "metadata": {
        "id": "H7RRG_WnDL7w"
      },
      "source": [
        "# Arrays são matrizes/vetores e agrupam valores em uma mesma posição de memória\n",
        "array = [minha_string, numeros_inteiros, numeros, booleana]"
      ],
      "execution_count": null,
      "outputs": []
    },
    {
      "cell_type": "markdown",
      "metadata": {
        "id": "TsKOAdOPEh49"
      },
      "source": [
        "### Condicionais, funções e laços de repetição"
      ]
    },
    {
      "cell_type": "markdown",
      "metadata": {
        "id": "55ySluAEy5a7"
      },
      "source": [
        "_[(Assista aqui.)](https://youtu.be/6IdV_9dp8HQ?t=3070)_  Condicionais são estruturas que possibilitam a execução de códigos diferentes de acordo com determinado contexto. No Python, é expressa pela palavra chave ```if``` seguida da condição a ser testada, e pode ser complementada pelas alternativas ```else``` ou ```elif```.\n",
        "\n",
        "Uma função, por sua vez, é um trecho de código que recebe argumentos e, com eles, realiza determinada tarefa. No Python uma função é criada pela palavra chave ```def``` seguida do seu nome e da lista de argumentos que a função recebe e usa em seu interior.\n",
        "\n",
        "As condicionais, as funções e toda estrutura que abarca um bloco de código, no Python, têm seu cabeçalho terminado por ```:``` e o bloco que o pertence deve ser hierarquicamente identado de forma subordinada ao cabeçalho."
      ]
    },
    {
      "cell_type": "markdown",
      "metadata": {
        "id": "K991cvP99Ve0"
      },
      "source": [
        "##### Exemplo 1: Par ou ímpar"
      ]
    },
    {
      "cell_type": "markdown",
      "metadata": {
        "id": "uwz0iIegB6ei"
      },
      "source": [
        "Como exemplo, a função ```par_ou_impar``` recebe o argumento ```valor```, que é o número que será testado como par ou ímpar.\n",
        "\n",
        "O teste é realiza por uma estrutural condicional que calcula o resto da divisão do argumento ```valor``` por dois e  teste se este resto é igual a zero ```valor%2 == 0```. Caso seja, a função imprime na tela a a mensagem **É par** usando a função ```print()```. Caso contrário, definido por ```else```, imprime a mensagem de ímpar."
      ]
    },
    {
      "cell_type": "code",
      "metadata": {
        "id": "ONlTrr4UEgn7"
      },
      "source": [
        "# Definição da função\n",
        "def par_ou_impar (valor):\n",
        "  # Condição\n",
        "  if valor%2 == 0:\n",
        "    # Bloco a ser executado, se verdadeiro\n",
        "    print(\"É par.\")\n",
        "  # Se não\n",
        "  else :\n",
        "    # Bloco a ser executado, se falso\n",
        "    print(\"É impar\")"
      ],
      "execution_count": null,
      "outputs": []
    },
    {
      "cell_type": "markdown",
      "metadata": {
        "id": "KGYSD5etDhkt"
      },
      "source": [
        "#### Exemplo 2: teste de vários números em loop"
      ]
    },
    {
      "cell_type": "markdown",
      "metadata": {
        "id": "rVchdYJ-DrHX"
      },
      "source": [
        "O array ```numeros``` possui 6 números para que seja realizado o teste de par ou ímpar. Isso será feito usando um laço de repetição ```for``` que chamará de ```numero``` cada número contido no array ```numeros``` e, para cada um deles, executara a função ```par_ou_impar``` recém criada.\n",
        "\n",
        "O resultado é o retorno do resultado de todos os números de uma vez, sem a necessidade de repetição do código."
      ]
    },
    {
      "cell_type": "code",
      "metadata": {
        "id": "zbQsWxRLIZYi"
      },
      "source": [
        "numeros = [1, 4, 20, 45, 200, 1000]"
      ],
      "execution_count": null,
      "outputs": []
    },
    {
      "cell_type": "code",
      "metadata": {
        "id": "ZbwwxZzsIzsz",
        "colab": {
          "base_uri": "https://localhost:8080/"
        },
        "outputId": "6391cb21-ae31-4664-fbaa-fb65f25c59f3"
      },
      "source": [
        "# Loop For\n",
        "for numero in numeros:\n",
        "  # Bloco a ser executado no loop\n",
        "  par_ou_impar(numero)"
      ],
      "execution_count": null,
      "outputs": [
        {
          "output_type": "stream",
          "text": [
            "É impar\n",
            "É par.\n",
            "É par.\n",
            "É impar\n",
            "É par.\n",
            "É par.\n"
          ],
          "name": "stdout"
        }
      ]
    },
    {
      "cell_type": "markdown",
      "metadata": {
        "id": "uCWUKCWZJjUr"
      },
      "source": [
        "## Pandas"
      ]
    },
    {
      "cell_type": "markdown",
      "metadata": {
        "id": "gzDOkDKdEil4"
      },
      "source": [
        "_[(Assista aqui.)](https://youtu.be/6IdV_9dp8HQ?t=4445)_  O Pandas é uma das bibliotecas de Python mais utilizadas na área de Ciência de Dados e possui diversas funções para a manipulação de dados tabulados.\n",
        "\n",
        "Como não é uma biblioteca que não vem inicializada junto com o Python, é necessário importá-la para o projeto. O que é feito com o comando ```import``` também é importante dar à biblioteca o atalho ```pd```, assim, todas as funções da bibliotecas serão acessadas por este atalho (ex.: ```pd.[NOME DA FUNÇÂO]```).\n",
        "\n",
        "A documentação oficial do pactote pode ser encontrada [aqui](https://pandas.pydata.org/pandas-docs/stable/reference/index.html)."
      ]
    },
    {
      "cell_type": "code",
      "metadata": {
        "id": "H0kl5RaJE9uQ"
      },
      "source": [
        "import pandas as pd"
      ],
      "execution_count": null,
      "outputs": []
    },
    {
      "cell_type": "markdown",
      "metadata": {
        "id": "3rKONDYMEzAW"
      },
      "source": [
        "### Lendo arquivos de dados"
      ]
    },
    {
      "cell_type": "markdown",
      "metadata": {
        "id": "tPQF1SbYE5tE"
      },
      "source": [
        "_[(Assista aqui.)](https://youtu.be/6IdV_9dp8HQ?t=4880)_  O Pandas possui uma série de funções para a leitura de arquivo de dados dos mais diversos formatos, elas começam com ```pd.read_``` e são seguidas por uma palavra-chave alusiva ao formato de arquivo (ex.: ```pd.read_excel``` ou ```pd.read_stata```, etc.).\n",
        "\n",
        "Abaixo, foi realizada a importação de um arquivo no formato CSV referente aos documentos fiscais emitidos por dia em todas as unidades da federação, obtido através de uma URL disponibilizada pela [Secretaria Estadual da Fazenda do Rio Grande do Sul](http://receitadados.fazenda.rs.gov.br/dados-abertos/docs-eletronicos)."
      ]
    },
    {
      "cell_type": "code",
      "metadata": {
        "id": "s8e_IBw5MSjP"
      },
      "source": [
        "url = \"http://receitadados.fazenda.rs.gov.br/Documentos%20Compartilhados/Valor%20e%20quantidade%20de%20DFe%20por%20dia.csv\""
      ],
      "execution_count": null,
      "outputs": []
    },
    {
      "cell_type": "markdown",
      "metadata": {
        "id": "1cM8dfasl0jq"
      },
      "source": [
        "O argumento mais comum na função ```pd.read_csv``` é o arquivo a ser importado, que é sempre o primeiro. No caso de bases de dados brasileiras, é comum arquivos que não são codificados em UTF-8, sendo necessiário infomar o tipo de codificação pelo argumento ```encoding```, assim como arquivos separados não por vírgulas, mas por ponto-e-virgula, sendo necessáro especificar o separador pelo argumento ```sep```."
      ]
    },
    {
      "cell_type": "code",
      "metadata": {
        "id": "56SnHqWxLvqT"
      },
      "source": [
        "df = pd.read_csv(url,encoding=\"latin1\",sep=\";\")"
      ],
      "execution_count": null,
      "outputs": []
    },
    {
      "cell_type": "markdown",
      "metadata": {
        "id": "Ho6un4qvyZCP"
      },
      "source": [
        "### Visualizando os data frames"
      ]
    },
    {
      "cell_type": "markdown",
      "metadata": {
        "id": "zJ00UaTMydoV"
      },
      "source": [
        "_[(Assista aqui.)](https://youtu.be/6IdV_9dp8HQ?t=6032)_  O carregamento dos dados resulta em um objeto do tipo data frame, que não é nativo do Python, mas particular do Pandas."
      ]
    },
    {
      "cell_type": "markdown",
      "metadata": {
        "id": "P60-Anx0e3Y7"
      },
      "source": [
        "#### Visualização de dados pelos métodos ```head()```, ```tail()``` e ```sample()```"
      ]
    },
    {
      "cell_type": "markdown",
      "metadata": {
        "id": "XKQiMrCFezag"
      },
      "source": [
        "As três principais formas de visualizar os dados de um data frame é usando os métodos .head(), .tail() e .sample(). O primeiro exibe as 5 primeiras linhas, e, o segundo, as ultimas. O terceito método exibe uma linha aleatória do conjunto de dados."
      ]
    },
    {
      "cell_type": "code",
      "metadata": {
        "colab": {
          "base_uri": "https://localhost:8080/",
          "height": 204
        },
        "id": "wlLYFeFE0h9r",
        "outputId": "08aabb50-bdfa-408f-e31a-60dc6903c134"
      },
      "source": [
        "df.head()"
      ],
      "execution_count": null,
      "outputs": [
        {
          "output_type": "execute_result",
          "data": {
            "text/html": [
              "<div>\n",
              "<style scoped>\n",
              "    .dataframe tbody tr th:only-of-type {\n",
              "        vertical-align: middle;\n",
              "    }\n",
              "\n",
              "    .dataframe tbody tr th {\n",
              "        vertical-align: top;\n",
              "    }\n",
              "\n",
              "    .dataframe thead th {\n",
              "        text-align: right;\n",
              "    }\n",
              "</style>\n",
              "<table border=\"1\" class=\"dataframe\">\n",
              "  <thead>\n",
              "    <tr style=\"text-align: right;\">\n",
              "      <th></th>\n",
              "      <th>Modelo</th>\n",
              "      <th>Ano</th>\n",
              "      <th>Mês</th>\n",
              "      <th>Data</th>\n",
              "      <th>UF</th>\n",
              "      <th>Tipo Emissão</th>\n",
              "      <th>Qtde Autorizados</th>\n",
              "      <th>Valor Autorizados</th>\n",
              "      <th>Dados Atualizados Até</th>\n",
              "    </tr>\n",
              "  </thead>\n",
              "  <tbody>\n",
              "    <tr>\n",
              "      <th>0</th>\n",
              "      <td>NFC-e</td>\n",
              "      <td>2015</td>\n",
              "      <td>4</td>\n",
              "      <td>2015-04-02</td>\n",
              "      <td>ACRE</td>\n",
              "      <td>Saída</td>\n",
              "      <td>25458</td>\n",
              "      <td>1832984,63</td>\n",
              "      <td>2020-11-26</td>\n",
              "    </tr>\n",
              "    <tr>\n",
              "      <th>1</th>\n",
              "      <td>NFC-e</td>\n",
              "      <td>2015</td>\n",
              "      <td>4</td>\n",
              "      <td>2015-04-02</td>\n",
              "      <td>RONDONIA</td>\n",
              "      <td>Saída</td>\n",
              "      <td>102009</td>\n",
              "      <td>8151069,90</td>\n",
              "      <td>2020-11-26</td>\n",
              "    </tr>\n",
              "    <tr>\n",
              "      <th>2</th>\n",
              "      <td>NFC-e</td>\n",
              "      <td>2015</td>\n",
              "      <td>4</td>\n",
              "      <td>2015-04-02</td>\n",
              "      <td>RORAIMA</td>\n",
              "      <td>Saída</td>\n",
              "      <td>7176</td>\n",
              "      <td>667789,30</td>\n",
              "      <td>2020-11-26</td>\n",
              "    </tr>\n",
              "    <tr>\n",
              "      <th>3</th>\n",
              "      <td>MDF-e</td>\n",
              "      <td>2015</td>\n",
              "      <td>4</td>\n",
              "      <td>2015-04-02</td>\n",
              "      <td>PIAUI</td>\n",
              "      <td>Saída</td>\n",
              "      <td>170</td>\n",
              "      <td>0,00</td>\n",
              "      <td>2020-11-26</td>\n",
              "    </tr>\n",
              "    <tr>\n",
              "      <th>4</th>\n",
              "      <td>MDF-e</td>\n",
              "      <td>2015</td>\n",
              "      <td>4</td>\n",
              "      <td>2015-04-02</td>\n",
              "      <td>RORAIMA</td>\n",
              "      <td>Saída</td>\n",
              "      <td>28</td>\n",
              "      <td>0,00</td>\n",
              "      <td>2020-11-26</td>\n",
              "    </tr>\n",
              "  </tbody>\n",
              "</table>\n",
              "</div>"
            ],
            "text/plain": [
              "  Modelo   Ano  Mês  ... Qtde Autorizados Valor Autorizados Dados Atualizados Até\n",
              "0  NFC-e  2015    4  ...            25458        1832984,63            2020-11-26\n",
              "1  NFC-e  2015    4  ...           102009        8151069,90            2020-11-26\n",
              "2  NFC-e  2015    4  ...             7176         667789,30            2020-11-26\n",
              "3  MDF-e  2015    4  ...              170              0,00            2020-11-26\n",
              "4  MDF-e  2015    4  ...               28              0,00            2020-11-26\n",
              "\n",
              "[5 rows x 9 columns]"
            ]
          },
          "metadata": {
            "tags": []
          },
          "execution_count": 14
        }
      ]
    },
    {
      "cell_type": "code",
      "metadata": {
        "colab": {
          "base_uri": "https://localhost:8080/",
          "height": 235
        },
        "id": "NXB8BN7c00BN",
        "outputId": "05ef44f3-b6c8-4db0-ec5e-e1c86ec66f9d"
      },
      "source": [
        "df.tail()"
      ],
      "execution_count": null,
      "outputs": [
        {
          "output_type": "execute_result",
          "data": {
            "text/html": [
              "<div>\n",
              "<style scoped>\n",
              "    .dataframe tbody tr th:only-of-type {\n",
              "        vertical-align: middle;\n",
              "    }\n",
              "\n",
              "    .dataframe tbody tr th {\n",
              "        vertical-align: top;\n",
              "    }\n",
              "\n",
              "    .dataframe thead th {\n",
              "        text-align: right;\n",
              "    }\n",
              "</style>\n",
              "<table border=\"1\" class=\"dataframe\">\n",
              "  <thead>\n",
              "    <tr style=\"text-align: right;\">\n",
              "      <th></th>\n",
              "      <th>Modelo</th>\n",
              "      <th>Ano</th>\n",
              "      <th>Mês</th>\n",
              "      <th>UF</th>\n",
              "      <th>Tipo Emissão</th>\n",
              "      <th>Qtde Autorizados</th>\n",
              "      <th>Valor Autorizados</th>\n",
              "      <th>Dados Atualizados Até</th>\n",
              "    </tr>\n",
              "    <tr>\n",
              "      <th>Data</th>\n",
              "      <th></th>\n",
              "      <th></th>\n",
              "      <th></th>\n",
              "      <th></th>\n",
              "      <th></th>\n",
              "      <th></th>\n",
              "      <th></th>\n",
              "      <th></th>\n",
              "    </tr>\n",
              "  </thead>\n",
              "  <tbody>\n",
              "    <tr>\n",
              "      <th>2015-05-29</th>\n",
              "      <td>CT-e</td>\n",
              "      <td>2015</td>\n",
              "      <td>5</td>\n",
              "      <td>PIAUI</td>\n",
              "      <td>Saída</td>\n",
              "      <td>3669</td>\n",
              "      <td>2.011658e+06</td>\n",
              "      <td>2020-11-26</td>\n",
              "    </tr>\n",
              "    <tr>\n",
              "      <th>2015-05-29</th>\n",
              "      <td>NF-e</td>\n",
              "      <td>2015</td>\n",
              "      <td>5</td>\n",
              "      <td>SERGIPE</td>\n",
              "      <td>Saída</td>\n",
              "      <td>44325</td>\n",
              "      <td>1.819268e+08</td>\n",
              "      <td>2020-11-26</td>\n",
              "    </tr>\n",
              "    <tr>\n",
              "      <th>2015-05-29</th>\n",
              "      <td>MDF-e</td>\n",
              "      <td>2015</td>\n",
              "      <td>5</td>\n",
              "      <td>ALAGOAS</td>\n",
              "      <td>Saída</td>\n",
              "      <td>292</td>\n",
              "      <td>0.000000e+00</td>\n",
              "      <td>2020-11-26</td>\n",
              "    </tr>\n",
              "    <tr>\n",
              "      <th>2015-08-01</th>\n",
              "      <td>NFC-e</td>\n",
              "      <td>2015</td>\n",
              "      <td>8</td>\n",
              "      <td>RONDONIA</td>\n",
              "      <td>Saída</td>\n",
              "      <td>155721</td>\n",
              "      <td>1.325389e+07</td>\n",
              "      <td>2020-11-26</td>\n",
              "    </tr>\n",
              "    <tr>\n",
              "      <th>2015-08-01</th>\n",
              "      <td>NFC-e</td>\n",
              "      <td>2015</td>\n",
              "      <td>8</td>\n",
              "      <td>PIAUI</td>\n",
              "      <td>Saída</td>\n",
              "      <td>479</td>\n",
              "      <td>1.021909e+05</td>\n",
              "      <td>2020-11-26</td>\n",
              "    </tr>\n",
              "  </tbody>\n",
              "</table>\n",
              "</div>"
            ],
            "text/plain": [
              "           Modelo   Ano  ...  Valor Autorizados Dados Atualizados Até\n",
              "Data                     ...                                         \n",
              "2015-05-29   CT-e  2015  ...       2.011658e+06            2020-11-26\n",
              "2015-05-29   NF-e  2015  ...       1.819268e+08            2020-11-26\n",
              "2015-05-29  MDF-e  2015  ...       0.000000e+00            2020-11-26\n",
              "2015-08-01  NFC-e  2015  ...       1.325389e+07            2020-11-26\n",
              "2015-08-01  NFC-e  2015  ...       1.021909e+05            2020-11-26\n",
              "\n",
              "[5 rows x 8 columns]"
            ]
          },
          "metadata": {
            "tags": []
          },
          "execution_count": 32
        }
      ]
    },
    {
      "cell_type": "code",
      "metadata": {
        "colab": {
          "base_uri": "https://localhost:8080/",
          "height": 145
        },
        "id": "n0Qu-q5F05VO",
        "outputId": "6d3a8c6c-6f61-46d9-b4d0-4857af9c6455"
      },
      "source": [
        "df.sample()"
      ],
      "execution_count": null,
      "outputs": [
        {
          "output_type": "execute_result",
          "data": {
            "text/html": [
              "<div>\n",
              "<style scoped>\n",
              "    .dataframe tbody tr th:only-of-type {\n",
              "        vertical-align: middle;\n",
              "    }\n",
              "\n",
              "    .dataframe tbody tr th {\n",
              "        vertical-align: top;\n",
              "    }\n",
              "\n",
              "    .dataframe thead th {\n",
              "        text-align: right;\n",
              "    }\n",
              "</style>\n",
              "<table border=\"1\" class=\"dataframe\">\n",
              "  <thead>\n",
              "    <tr style=\"text-align: right;\">\n",
              "      <th></th>\n",
              "      <th>Modelo</th>\n",
              "      <th>Ano</th>\n",
              "      <th>Mês</th>\n",
              "      <th>UF</th>\n",
              "      <th>Tipo Emissão</th>\n",
              "      <th>Qtde Autorizados</th>\n",
              "      <th>Valor Autorizados</th>\n",
              "      <th>Dados Atualizados Até</th>\n",
              "    </tr>\n",
              "    <tr>\n",
              "      <th>Data</th>\n",
              "      <th></th>\n",
              "      <th></th>\n",
              "      <th></th>\n",
              "      <th></th>\n",
              "      <th></th>\n",
              "      <th></th>\n",
              "      <th></th>\n",
              "      <th></th>\n",
              "    </tr>\n",
              "  </thead>\n",
              "  <tbody>\n",
              "    <tr>\n",
              "      <th>2011-11-26</th>\n",
              "      <td>NF-e</td>\n",
              "      <td>2011</td>\n",
              "      <td>11</td>\n",
              "      <td>RIO GRANDE DO NORTE</td>\n",
              "      <td>Saída</td>\n",
              "      <td>34386</td>\n",
              "      <td>79769058.38</td>\n",
              "      <td>2020-11-26</td>\n",
              "    </tr>\n",
              "  </tbody>\n",
              "</table>\n",
              "</div>"
            ],
            "text/plain": [
              "           Modelo   Ano  ...  Valor Autorizados Dados Atualizados Até\n",
              "Data                     ...                                         \n",
              "2011-11-26   NF-e  2011  ...        79769058.38            2020-11-26\n",
              "\n",
              "[1 rows x 8 columns]"
            ]
          },
          "metadata": {
            "tags": []
          },
          "execution_count": 33
        }
      ]
    },
    {
      "cell_type": "markdown",
      "metadata": {
        "id": "zlL97Hpz0_NY"
      },
      "source": [
        "O padrão de quantidade de linhas exibidas nesses métodos podem ser alterados informando a quantidade de linhas como um argumento do método.\n",
        "\n",
        "O exemplo abaixo retorna 10 linhas aleatórias do data frame."
      ]
    },
    {
      "cell_type": "code",
      "metadata": {
        "colab": {
          "base_uri": "https://localhost:8080/",
          "height": 577
        },
        "id": "NLn_B33o1uih",
        "outputId": "4c708213-474f-4b3a-e685-3e06c8fa20e9"
      },
      "source": [
        "df.sample(10)"
      ],
      "execution_count": null,
      "outputs": [
        {
          "output_type": "execute_result",
          "data": {
            "text/html": [
              "<div>\n",
              "<style scoped>\n",
              "    .dataframe tbody tr th:only-of-type {\n",
              "        vertical-align: middle;\n",
              "    }\n",
              "\n",
              "    .dataframe tbody tr th {\n",
              "        vertical-align: top;\n",
              "    }\n",
              "\n",
              "    .dataframe thead th {\n",
              "        text-align: right;\n",
              "    }\n",
              "</style>\n",
              "<table border=\"1\" class=\"dataframe\">\n",
              "  <thead>\n",
              "    <tr style=\"text-align: right;\">\n",
              "      <th></th>\n",
              "      <th>Modelo</th>\n",
              "      <th>Ano</th>\n",
              "      <th>Mês</th>\n",
              "      <th>UF</th>\n",
              "      <th>Tipo Emissão</th>\n",
              "      <th>Qtde Autorizados</th>\n",
              "      <th>Valor Autorizados</th>\n",
              "      <th>Dados Atualizados Até</th>\n",
              "    </tr>\n",
              "    <tr>\n",
              "      <th>Data</th>\n",
              "      <th></th>\n",
              "      <th></th>\n",
              "      <th></th>\n",
              "      <th></th>\n",
              "      <th></th>\n",
              "      <th></th>\n",
              "      <th></th>\n",
              "      <th></th>\n",
              "    </tr>\n",
              "  </thead>\n",
              "  <tbody>\n",
              "    <tr>\n",
              "      <th>2017-03-24</th>\n",
              "      <td>CT-e</td>\n",
              "      <td>2017</td>\n",
              "      <td>3</td>\n",
              "      <td>ALAGOAS</td>\n",
              "      <td>Saída</td>\n",
              "      <td>5218</td>\n",
              "      <td>2350445.00</td>\n",
              "      <td>2020-11-26</td>\n",
              "    </tr>\n",
              "    <tr>\n",
              "      <th>2014-12-29</th>\n",
              "      <td>CT-e</td>\n",
              "      <td>2014</td>\n",
              "      <td>12</td>\n",
              "      <td>PARAIBA</td>\n",
              "      <td>Saída</td>\n",
              "      <td>4512</td>\n",
              "      <td>1479667.22</td>\n",
              "      <td>2020-11-26</td>\n",
              "    </tr>\n",
              "    <tr>\n",
              "      <th>2014-06-27</th>\n",
              "      <td>MDF-e</td>\n",
              "      <td>2014</td>\n",
              "      <td>6</td>\n",
              "      <td>RIO GRANDE DO NORTE</td>\n",
              "      <td>Saída</td>\n",
              "      <td>147</td>\n",
              "      <td>0.00</td>\n",
              "      <td>2020-11-26</td>\n",
              "    </tr>\n",
              "    <tr>\n",
              "      <th>2010-01-09</th>\n",
              "      <td>NF-e</td>\n",
              "      <td>2010</td>\n",
              "      <td>1</td>\n",
              "      <td>ALAGOAS</td>\n",
              "      <td>Saída</td>\n",
              "      <td>6749</td>\n",
              "      <td>40899224.95</td>\n",
              "      <td>2020-11-26</td>\n",
              "    </tr>\n",
              "    <tr>\n",
              "      <th>2019-06-02</th>\n",
              "      <td>CT-e</td>\n",
              "      <td>2019</td>\n",
              "      <td>6</td>\n",
              "      <td>ALAGOAS</td>\n",
              "      <td>Saída</td>\n",
              "      <td>223</td>\n",
              "      <td>338633.13</td>\n",
              "      <td>2020-11-26</td>\n",
              "    </tr>\n",
              "    <tr>\n",
              "      <th>2016-03-19</th>\n",
              "      <td>MDF-e</td>\n",
              "      <td>2016</td>\n",
              "      <td>3</td>\n",
              "      <td>RIO DE JANEIRO</td>\n",
              "      <td>Saída</td>\n",
              "      <td>1211</td>\n",
              "      <td>0.00</td>\n",
              "      <td>2020-11-26</td>\n",
              "    </tr>\n",
              "    <tr>\n",
              "      <th>2016-10-09</th>\n",
              "      <td>NF-e</td>\n",
              "      <td>2016</td>\n",
              "      <td>10</td>\n",
              "      <td>RORAIMA</td>\n",
              "      <td>Saída</td>\n",
              "      <td>277</td>\n",
              "      <td>2496961.29</td>\n",
              "      <td>2020-11-26</td>\n",
              "    </tr>\n",
              "    <tr>\n",
              "      <th>2020-08-30</th>\n",
              "      <td>CT-e</td>\n",
              "      <td>2020</td>\n",
              "      <td>8</td>\n",
              "      <td>BAHIA</td>\n",
              "      <td>Saída</td>\n",
              "      <td>5702</td>\n",
              "      <td>7127007.74</td>\n",
              "      <td>2020-11-26</td>\n",
              "    </tr>\n",
              "    <tr>\n",
              "      <th>2018-02-10</th>\n",
              "      <td>BP-e</td>\n",
              "      <td>2018</td>\n",
              "      <td>2</td>\n",
              "      <td>SERGIPE</td>\n",
              "      <td>Saída</td>\n",
              "      <td>0</td>\n",
              "      <td>0.00</td>\n",
              "      <td>2020-11-26</td>\n",
              "    </tr>\n",
              "    <tr>\n",
              "      <th>2019-01-12</th>\n",
              "      <td>CT-e</td>\n",
              "      <td>2019</td>\n",
              "      <td>1</td>\n",
              "      <td>RIO DE JANEIRO</td>\n",
              "      <td>Saída</td>\n",
              "      <td>32448</td>\n",
              "      <td>18733168.16</td>\n",
              "      <td>2020-11-26</td>\n",
              "    </tr>\n",
              "  </tbody>\n",
              "</table>\n",
              "</div>"
            ],
            "text/plain": [
              "           Modelo   Ano  ...  Valor Autorizados Dados Atualizados Até\n",
              "Data                     ...                                         \n",
              "2017-03-24   CT-e  2017  ...         2350445.00            2020-11-26\n",
              "2014-12-29   CT-e  2014  ...         1479667.22            2020-11-26\n",
              "2014-06-27  MDF-e  2014  ...               0.00            2020-11-26\n",
              "2010-01-09   NF-e  2010  ...        40899224.95            2020-11-26\n",
              "2019-06-02   CT-e  2019  ...          338633.13            2020-11-26\n",
              "2016-03-19  MDF-e  2016  ...               0.00            2020-11-26\n",
              "2016-10-09   NF-e  2016  ...         2496961.29            2020-11-26\n",
              "2020-08-30   CT-e  2020  ...         7127007.74            2020-11-26\n",
              "2018-02-10   BP-e  2018  ...               0.00            2020-11-26\n",
              "2019-01-12   CT-e  2019  ...        18733168.16            2020-11-26\n",
              "\n",
              "[10 rows x 8 columns]"
            ]
          },
          "metadata": {
            "tags": []
          },
          "execution_count": 34
        }
      ]
    },
    {
      "cell_type": "markdown",
      "metadata": {
        "id": "uEnVh5iW16G_"
      },
      "source": [
        "Além disso, é possível obter uma visualização do data frame apenas com o nome da variável. Nesse caso, a visualização retornada é equivalente aos métodos ```head()``` e ```tail()``` simltaneamente, pois exibe as cinco primeiras e as cinco últimas linhas do conjunto de dados."
      ]
    },
    {
      "cell_type": "code",
      "metadata": {
        "colab": {
          "base_uri": "https://localhost:8080/",
          "height": 450
        },
        "id": "l53o8IDb2aqz",
        "outputId": "1a9ad5cb-5c87-4fc2-90f2-6b8754c9cdd1"
      },
      "source": [
        "df"
      ],
      "execution_count": null,
      "outputs": [
        {
          "output_type": "execute_result",
          "data": {
            "text/html": [
              "<div>\n",
              "<style scoped>\n",
              "    .dataframe tbody tr th:only-of-type {\n",
              "        vertical-align: middle;\n",
              "    }\n",
              "\n",
              "    .dataframe tbody tr th {\n",
              "        vertical-align: top;\n",
              "    }\n",
              "\n",
              "    .dataframe thead th {\n",
              "        text-align: right;\n",
              "    }\n",
              "</style>\n",
              "<table border=\"1\" class=\"dataframe\">\n",
              "  <thead>\n",
              "    <tr style=\"text-align: right;\">\n",
              "      <th></th>\n",
              "      <th>Modelo</th>\n",
              "      <th>Ano</th>\n",
              "      <th>Mês</th>\n",
              "      <th>UF</th>\n",
              "      <th>Tipo Emissão</th>\n",
              "      <th>Qtde Autorizados</th>\n",
              "      <th>Valor Autorizados</th>\n",
              "      <th>Dados Atualizados Até</th>\n",
              "    </tr>\n",
              "    <tr>\n",
              "      <th>Data</th>\n",
              "      <th></th>\n",
              "      <th></th>\n",
              "      <th></th>\n",
              "      <th></th>\n",
              "      <th></th>\n",
              "      <th></th>\n",
              "      <th></th>\n",
              "      <th></th>\n",
              "    </tr>\n",
              "  </thead>\n",
              "  <tbody>\n",
              "    <tr>\n",
              "      <th>2015-04-02</th>\n",
              "      <td>NFC-e</td>\n",
              "      <td>2015</td>\n",
              "      <td>4</td>\n",
              "      <td>ACRE</td>\n",
              "      <td>Saída</td>\n",
              "      <td>25458</td>\n",
              "      <td>1.832985e+06</td>\n",
              "      <td>2020-11-26</td>\n",
              "    </tr>\n",
              "    <tr>\n",
              "      <th>2015-04-02</th>\n",
              "      <td>NFC-e</td>\n",
              "      <td>2015</td>\n",
              "      <td>4</td>\n",
              "      <td>RONDONIA</td>\n",
              "      <td>Saída</td>\n",
              "      <td>102009</td>\n",
              "      <td>8.151070e+06</td>\n",
              "      <td>2020-11-26</td>\n",
              "    </tr>\n",
              "    <tr>\n",
              "      <th>2015-04-02</th>\n",
              "      <td>NFC-e</td>\n",
              "      <td>2015</td>\n",
              "      <td>4</td>\n",
              "      <td>RORAIMA</td>\n",
              "      <td>Saída</td>\n",
              "      <td>7176</td>\n",
              "      <td>6.677893e+05</td>\n",
              "      <td>2020-11-26</td>\n",
              "    </tr>\n",
              "    <tr>\n",
              "      <th>2015-04-02</th>\n",
              "      <td>MDF-e</td>\n",
              "      <td>2015</td>\n",
              "      <td>4</td>\n",
              "      <td>PIAUI</td>\n",
              "      <td>Saída</td>\n",
              "      <td>170</td>\n",
              "      <td>0.000000e+00</td>\n",
              "      <td>2020-11-26</td>\n",
              "    </tr>\n",
              "    <tr>\n",
              "      <th>2015-04-02</th>\n",
              "      <td>MDF-e</td>\n",
              "      <td>2015</td>\n",
              "      <td>4</td>\n",
              "      <td>RORAIMA</td>\n",
              "      <td>Saída</td>\n",
              "      <td>28</td>\n",
              "      <td>0.000000e+00</td>\n",
              "      <td>2020-11-26</td>\n",
              "    </tr>\n",
              "    <tr>\n",
              "      <th>...</th>\n",
              "      <td>...</td>\n",
              "      <td>...</td>\n",
              "      <td>...</td>\n",
              "      <td>...</td>\n",
              "      <td>...</td>\n",
              "      <td>...</td>\n",
              "      <td>...</td>\n",
              "      <td>...</td>\n",
              "    </tr>\n",
              "    <tr>\n",
              "      <th>2015-05-29</th>\n",
              "      <td>CT-e</td>\n",
              "      <td>2015</td>\n",
              "      <td>5</td>\n",
              "      <td>PIAUI</td>\n",
              "      <td>Saída</td>\n",
              "      <td>3669</td>\n",
              "      <td>2.011658e+06</td>\n",
              "      <td>2020-11-26</td>\n",
              "    </tr>\n",
              "    <tr>\n",
              "      <th>2015-05-29</th>\n",
              "      <td>NF-e</td>\n",
              "      <td>2015</td>\n",
              "      <td>5</td>\n",
              "      <td>SERGIPE</td>\n",
              "      <td>Saída</td>\n",
              "      <td>44325</td>\n",
              "      <td>1.819268e+08</td>\n",
              "      <td>2020-11-26</td>\n",
              "    </tr>\n",
              "    <tr>\n",
              "      <th>2015-05-29</th>\n",
              "      <td>MDF-e</td>\n",
              "      <td>2015</td>\n",
              "      <td>5</td>\n",
              "      <td>ALAGOAS</td>\n",
              "      <td>Saída</td>\n",
              "      <td>292</td>\n",
              "      <td>0.000000e+00</td>\n",
              "      <td>2020-11-26</td>\n",
              "    </tr>\n",
              "    <tr>\n",
              "      <th>2015-08-01</th>\n",
              "      <td>NFC-e</td>\n",
              "      <td>2015</td>\n",
              "      <td>8</td>\n",
              "      <td>RONDONIA</td>\n",
              "      <td>Saída</td>\n",
              "      <td>155721</td>\n",
              "      <td>1.325389e+07</td>\n",
              "      <td>2020-11-26</td>\n",
              "    </tr>\n",
              "    <tr>\n",
              "      <th>2015-08-01</th>\n",
              "      <td>NFC-e</td>\n",
              "      <td>2015</td>\n",
              "      <td>8</td>\n",
              "      <td>PIAUI</td>\n",
              "      <td>Saída</td>\n",
              "      <td>479</td>\n",
              "      <td>1.021909e+05</td>\n",
              "      <td>2020-11-26</td>\n",
              "    </tr>\n",
              "  </tbody>\n",
              "</table>\n",
              "<p>184682 rows × 8 columns</p>\n",
              "</div>"
            ],
            "text/plain": [
              "           Modelo   Ano  ...  Valor Autorizados Dados Atualizados Até\n",
              "Data                     ...                                         \n",
              "2015-04-02  NFC-e  2015  ...       1.832985e+06            2020-11-26\n",
              "2015-04-02  NFC-e  2015  ...       8.151070e+06            2020-11-26\n",
              "2015-04-02  NFC-e  2015  ...       6.677893e+05            2020-11-26\n",
              "2015-04-02  MDF-e  2015  ...       0.000000e+00            2020-11-26\n",
              "2015-04-02  MDF-e  2015  ...       0.000000e+00            2020-11-26\n",
              "...           ...   ...  ...                ...                   ...\n",
              "2015-05-29   CT-e  2015  ...       2.011658e+06            2020-11-26\n",
              "2015-05-29   NF-e  2015  ...       1.819268e+08            2020-11-26\n",
              "2015-05-29  MDF-e  2015  ...       0.000000e+00            2020-11-26\n",
              "2015-08-01  NFC-e  2015  ...       1.325389e+07            2020-11-26\n",
              "2015-08-01  NFC-e  2015  ...       1.021909e+05            2020-11-26\n",
              "\n",
              "[184682 rows x 8 columns]"
            ]
          },
          "metadata": {
            "tags": []
          },
          "execution_count": 35
        }
      ]
    },
    {
      "cell_type": "markdown",
      "metadata": {
        "id": "HFh-BPqv2eiU"
      },
      "source": [
        "#### Visualização  das características pelos métodos ```info()``` e ```describe()```"
      ]
    },
    {
      "cell_type": "markdown",
      "metadata": {
        "id": "m5pT5nnZpyQs"
      },
      "source": [
        "Dois métodos bastante úteis quando se está trabalhando com data frames são o ```info()``` e o ```describe()```. Enquanto o primeiro sobre dados faltantes e o tipo de dados em cada coluna, o segundo traz as estatísticas descritivas acerca dos dados de colunas identificadas como numéricas."
      ]
    },
    {
      "cell_type": "markdown",
      "metadata": {
        "id": "9w-iqhDY4jB5"
      },
      "source": [
        "O método ```info()``` exibe as informações sobre as colunas do dataframe, como a quandidade de dados não nulos e o tipo de variável contida em cada uma delas."
      ]
    },
    {
      "cell_type": "code",
      "metadata": {
        "id": "_Wh9sCdcQGLr",
        "colab": {
          "base_uri": "https://localhost:8080/"
        },
        "outputId": "558542a2-6ca8-4e57-e977-812406f377ab"
      },
      "source": [
        "df.info()"
      ],
      "execution_count": null,
      "outputs": [
        {
          "output_type": "stream",
          "text": [
            "<class 'pandas.core.frame.DataFrame'>\n",
            "RangeIndex: 184682 entries, 0 to 184681\n",
            "Data columns (total 9 columns):\n",
            " #   Column                 Non-Null Count   Dtype \n",
            "---  ------                 --------------   ----- \n",
            " 0   Modelo                 184682 non-null  object\n",
            " 1   Ano                    184682 non-null  int64 \n",
            " 2   Mês                    184682 non-null  int64 \n",
            " 3   Data                   184682 non-null  object\n",
            " 4   UF                     184682 non-null  object\n",
            " 5   Tipo Emissão           184682 non-null  object\n",
            " 6   Qtde Autorizados       184682 non-null  int64 \n",
            " 7   Valor Autorizados      184682 non-null  object\n",
            " 8   Dados Atualizados Até  184682 non-null  object\n",
            "dtypes: int64(3), object(6)\n",
            "memory usage: 12.7+ MB\n"
          ],
          "name": "stdout"
        }
      ]
    },
    {
      "cell_type": "markdown",
      "metadata": {
        "id": "FSyNxpyw4wXo"
      },
      "source": [
        "O método ```describe()```, por sua vez, exibe as estatísticas descritivas das colunas com variáveis identificadas como numéricas."
      ]
    },
    {
      "cell_type": "code",
      "metadata": {
        "id": "FFCl0izHRvtK",
        "colab": {
          "base_uri": "https://localhost:8080/",
          "height": 297
        },
        "outputId": "7b419a56-1c93-4fdc-8897-9a5cefdd6664"
      },
      "source": [
        "df.describe()"
      ],
      "execution_count": null,
      "outputs": [
        {
          "output_type": "execute_result",
          "data": {
            "text/html": [
              "<div>\n",
              "<style scoped>\n",
              "    .dataframe tbody tr th:only-of-type {\n",
              "        vertical-align: middle;\n",
              "    }\n",
              "\n",
              "    .dataframe tbody tr th {\n",
              "        vertical-align: top;\n",
              "    }\n",
              "\n",
              "    .dataframe thead th {\n",
              "        text-align: right;\n",
              "    }\n",
              "</style>\n",
              "<table border=\"1\" class=\"dataframe\">\n",
              "  <thead>\n",
              "    <tr style=\"text-align: right;\">\n",
              "      <th></th>\n",
              "      <th>Ano</th>\n",
              "      <th>Mês</th>\n",
              "      <th>Qtde Autorizados</th>\n",
              "    </tr>\n",
              "  </thead>\n",
              "  <tbody>\n",
              "    <tr>\n",
              "      <th>count</th>\n",
              "      <td>184682.000000</td>\n",
              "      <td>184682.000000</td>\n",
              "      <td>1.846820e+05</td>\n",
              "    </tr>\n",
              "    <tr>\n",
              "      <th>mean</th>\n",
              "      <td>2015.824666</td>\n",
              "      <td>6.552203</td>\n",
              "      <td>1.776017e+05</td>\n",
              "    </tr>\n",
              "    <tr>\n",
              "      <th>std</th>\n",
              "      <td>3.299277</td>\n",
              "      <td>3.414272</td>\n",
              "      <td>7.493938e+05</td>\n",
              "    </tr>\n",
              "    <tr>\n",
              "      <th>min</th>\n",
              "      <td>2006.000000</td>\n",
              "      <td>1.000000</td>\n",
              "      <td>-1.120000e+02</td>\n",
              "    </tr>\n",
              "    <tr>\n",
              "      <th>25%</th>\n",
              "      <td>2014.000000</td>\n",
              "      <td>4.000000</td>\n",
              "      <td>1.900000e+02</td>\n",
              "    </tr>\n",
              "    <tr>\n",
              "      <th>50%</th>\n",
              "      <td>2017.000000</td>\n",
              "      <td>7.000000</td>\n",
              "      <td>3.690000e+03</td>\n",
              "    </tr>\n",
              "    <tr>\n",
              "      <th>75%</th>\n",
              "      <td>2019.000000</td>\n",
              "      <td>10.000000</td>\n",
              "      <td>4.886075e+04</td>\n",
              "    </tr>\n",
              "    <tr>\n",
              "      <th>max</th>\n",
              "      <td>2020.000000</td>\n",
              "      <td>12.000000</td>\n",
              "      <td>1.152078e+07</td>\n",
              "    </tr>\n",
              "  </tbody>\n",
              "</table>\n",
              "</div>"
            ],
            "text/plain": [
              "                 Ano            Mês  Qtde Autorizados\n",
              "count  184682.000000  184682.000000      1.846820e+05\n",
              "mean     2015.824666       6.552203      1.776017e+05\n",
              "std         3.299277       3.414272      7.493938e+05\n",
              "min      2006.000000       1.000000     -1.120000e+02\n",
              "25%      2014.000000       4.000000      1.900000e+02\n",
              "50%      2017.000000       7.000000      3.690000e+03\n",
              "75%      2019.000000      10.000000      4.886075e+04\n",
              "max      2020.000000      12.000000      1.152078e+07"
            ]
          },
          "metadata": {
            "tags": []
          },
          "execution_count": 16
        }
      ]
    },
    {
      "cell_type": "markdown",
      "metadata": {
        "id": "s2YJHjDP7NhK"
      },
      "source": [
        "### Ajuste do data frame"
      ]
    },
    {
      "cell_type": "markdown",
      "metadata": {
        "id": "TApUYqrW7Rfo"
      },
      "source": [
        "É de grande importância certificar-se de que os dados esteja no tipo de variável e formato corretos antes que venham a ser utilizados. Essa é uma etapa importante do processo e é chamada de ETL (Extract, Transform, Load).\n",
        "\n",
        "Tanto o Python, nativamente, quanto o Pandas buscam identificar os tipos de dados conforme seu conteúdo, contudo, nem sempre essa identificação é precisa, sobretudo em caso de datas e valores de bases de dados nacionais, por conta de serem expressos com máscaras ou em formatos que não atendem aos padrões da linguagem.\n",
        "\n",
        "Além disso, há de se alertar que o Pandas cria uma coluna indexadora genérica quando cria ou carrega os data frames, mas na maioria das vezes é desejável transformar um coluna como indexadora."
      ]
    },
    {
      "cell_type": "markdown",
      "metadata": {
        "id": "8SZOJfXXRBWZ"
      },
      "source": [
        "#### Ex. 1: Formatos numéricos"
      ]
    },
    {
      "cell_type": "markdown",
      "metadata": {
        "id": "kImOArSqRLAd"
      },
      "source": [
        "_[(Assista aqui.)](https://youtu.be/6IdV_9dp8HQ?t=6493)_  No caso em tela, é possível perceber a coluna \"Valor Autorizados\" contém os valores dos documentos monetários, mas não foram identificados como tal. Isso ocorre por que o Brasil expressa seus numerais adotando a vírgula como separador decimal e o ponto como separador de milhar, diferente do padrão americado utiliado pelo Python. Nesse caso, é necessário alterar o separador decimal e o tipo de variável. \n",
        "\n",
        "É possível alterar o separador decimal usando o método ```replace```, que pertence ao acessor ```str``` que será alimentado com os argumentos correspondentes ao conteúdo a ser alterado (que, no caso, é a vírgula \",\") e o o conteúdo que irá substituí-lo (que será o ponto \".\").  Por fim, alterado o serparador decimal, será realizada a conversão do tipo para float usando o método ```astype()```.\n",
        "\n",
        "Todos esses métodos devem ser aplicados sobre a coluna desejada do data frame, que pode ser acessada indicando o nome da coluna entre colchetes junto à variável do data frame."
      ]
    },
    {
      "cell_type": "code",
      "metadata": {
        "id": "pprBAay3SORc"
      },
      "source": [
        "df[\"Valor Autorizados\"] = df[\"Valor Autorizados\"].str.replace(\",\",\".\").astype(\"float\")"
      ],
      "execution_count": null,
      "outputs": []
    },
    {
      "cell_type": "markdown",
      "metadata": {
        "id": "pEyH6ZGoUJ7X"
      },
      "source": [
        "#### Ex. 2 Datas"
      ]
    },
    {
      "cell_type": "markdown",
      "metadata": {
        "id": "D1rBlxaQQ0Oq"
      },
      "source": [
        "_[(Assista aqui.)](https://youtu.be/6IdV_9dp8HQ?t=7140)_ As colunas \"Data\" e \"Dados Atualizados Até\" contém dados de datas, que não fora identificadas como tal em seu carregamento. Como já estão em formato americano, basta realizar a conversão de tipo usando a função ```to_datetime()``` do pandas e passando como argumento a coluna desejada."
      ]
    },
    {
      "cell_type": "code",
      "metadata": {
        "id": "QQlJUQ79U1Zl"
      },
      "source": [
        "df[\"Data\"] = pd.to_datetime(df[\"Data\"])\n",
        "df[\"Dados Atualizados Até\"] = pd.to_datetime(df[\"Dados Atualizados Até\"])"
      ],
      "execution_count": null,
      "outputs": []
    },
    {
      "cell_type": "markdown",
      "metadata": {
        "id": "1ptO6bEcUzf_"
      },
      "source": [
        "### Filtragem de valores"
      ]
    },
    {
      "cell_type": "markdown",
      "metadata": {
        "id": "e0s9E-lIU4FM"
      },
      "source": [
        "_[(Assista aqui.)](https://youtu.be/6IdV_9dp8HQ?t=7475)_ Uma das tarefas mais comuns com data frames é a filtragem de valores conforme os critérios desejados. No exemplo abaixo, foram realizadas as seguintes filtragens:\n",
        "\n",
        "* Apenas os dados referentes ao Rio Grande do Sul;\n",
        "* Apenas valores maiores do que 1000; e\n",
        "* Apenas as colunas \"Data\" e \"Valor Autorizados\"\n",
        "\n",
        "Isso é realizado através do acessor ```.loc[]``` que recebe informações de linha e de coluna separadas por vírgula, ou seja ```.loc[ linha , coluna ]```. Nesse caso, foram passado os dois argumentos que selecionaram os dados no como o argumento de linha e um array com o nome das colunas desejadas como argumento de coluna.\n",
        "\n"
      ]
    },
    {
      "cell_type": "code",
      "metadata": {
        "id": "t0FAp9l0WIfq",
        "colab": {
          "base_uri": "https://localhost:8080/",
          "height": 419
        },
        "outputId": "1c5a72e0-fac0-4ee2-e024-866e60b83d27"
      },
      "source": [
        "df.loc[(df[\"UF\"] == \"RIO GRANDE DO SUL\") & (df[\"Valor Autorizados\"] > 1000), [\"Data\", \"Valor Autorizados\"]]"
      ],
      "execution_count": null,
      "outputs": [
        {
          "output_type": "execute_result",
          "data": {
            "text/html": [
              "<div>\n",
              "<style scoped>\n",
              "    .dataframe tbody tr th:only-of-type {\n",
              "        vertical-align: middle;\n",
              "    }\n",
              "\n",
              "    .dataframe tbody tr th {\n",
              "        vertical-align: top;\n",
              "    }\n",
              "\n",
              "    .dataframe thead th {\n",
              "        text-align: right;\n",
              "    }\n",
              "</style>\n",
              "<table border=\"1\" class=\"dataframe\">\n",
              "  <thead>\n",
              "    <tr style=\"text-align: right;\">\n",
              "      <th></th>\n",
              "      <th>Data</th>\n",
              "      <th>Valor Autorizados</th>\n",
              "    </tr>\n",
              "  </thead>\n",
              "  <tbody>\n",
              "    <tr>\n",
              "      <th>5</th>\n",
              "      <td>2015-04-02</td>\n",
              "      <td>2.414147e+07</td>\n",
              "    </tr>\n",
              "    <tr>\n",
              "      <th>15</th>\n",
              "      <td>2014-07-09</td>\n",
              "      <td>2.699311e+09</td>\n",
              "    </tr>\n",
              "    <tr>\n",
              "      <th>21</th>\n",
              "      <td>2014-04-01</td>\n",
              "      <td>1.720675e+05</td>\n",
              "    </tr>\n",
              "    <tr>\n",
              "      <th>25</th>\n",
              "      <td>2014-06-18</td>\n",
              "      <td>5.396364e+07</td>\n",
              "    </tr>\n",
              "    <tr>\n",
              "      <th>37</th>\n",
              "      <td>2016-01-13</td>\n",
              "      <td>5.205261e+07</td>\n",
              "    </tr>\n",
              "    <tr>\n",
              "      <th>...</th>\n",
              "      <td>...</td>\n",
              "      <td>...</td>\n",
              "    </tr>\n",
              "    <tr>\n",
              "      <th>184625</th>\n",
              "      <td>2014-07-09</td>\n",
              "      <td>8.345711e+05</td>\n",
              "    </tr>\n",
              "    <tr>\n",
              "      <th>184631</th>\n",
              "      <td>2014-05-26</td>\n",
              "      <td>5.070611e+07</td>\n",
              "    </tr>\n",
              "    <tr>\n",
              "      <th>184635</th>\n",
              "      <td>2014-05-26</td>\n",
              "      <td>3.442774e+09</td>\n",
              "    </tr>\n",
              "    <tr>\n",
              "      <th>184642</th>\n",
              "      <td>2015-04-02</td>\n",
              "      <td>3.538007e+09</td>\n",
              "    </tr>\n",
              "    <tr>\n",
              "      <th>184675</th>\n",
              "      <td>2015-05-29</td>\n",
              "      <td>7.334798e+07</td>\n",
              "    </tr>\n",
              "  </tbody>\n",
              "</table>\n",
              "<p>14322 rows × 2 columns</p>\n",
              "</div>"
            ],
            "text/plain": [
              "             Data  Valor Autorizados\n",
              "5      2015-04-02       2.414147e+07\n",
              "15     2014-07-09       2.699311e+09\n",
              "21     2014-04-01       1.720675e+05\n",
              "25     2014-06-18       5.396364e+07\n",
              "37     2016-01-13       5.205261e+07\n",
              "...           ...                ...\n",
              "184625 2014-07-09       8.345711e+05\n",
              "184631 2014-05-26       5.070611e+07\n",
              "184635 2014-05-26       3.442774e+09\n",
              "184642 2015-04-02       3.538007e+09\n",
              "184675 2015-05-29       7.334798e+07\n",
              "\n",
              "[14322 rows x 2 columns]"
            ]
          },
          "metadata": {
            "tags": []
          },
          "execution_count": 19
        }
      ]
    },
    {
      "cell_type": "markdown",
      "metadata": {
        "id": "dA88N8yqe-EJ"
      },
      "source": [
        "### Bônus"
      ]
    },
    {
      "cell_type": "markdown",
      "metadata": {
        "id": "H6MJ1jCz8d2T"
      },
      "source": [
        "_[(Assista aqui.)](https://youtu.be/V3yxEA9u07o?t=4800)_  Os tópicos acima abordam as competências mais elementares na manipulação de _data frames_ com o Pandas, atendendo as pretenções do curso. Contudo, muitas outras competências são nessárias para o uso satisfatório do pandas.\n",
        "\n",
        "Esta seção bônus demonstra duas das habilidades mais importantes nesse contexto. Como a abordagem é bastante expositiva, recomenda-se o aprofundamento nessas ferramentas."
      ]
    },
    {
      "cell_type": "markdown",
      "metadata": {
        "id": "da81K4ISi3Zr"
      },
      "source": [
        "#### Mudar o índice do data frame"
      ]
    },
    {
      "cell_type": "markdown",
      "metadata": {
        "id": "8RQ2gm4hfEAQ"
      },
      "source": [
        "É possível perceber que a coluna \"Data\" é bastante adequada para compor o índice da tabela. Isso pode ser feito usando o método ```set_index()``` apontando a coluna no primeiro argumento. Também foi utilizado o argumento ```inplace=True``` que realiza a alteração diretamente no data frame."
      ]
    },
    {
      "cell_type": "code",
      "metadata": {
        "id": "RDnP6eLIVseV"
      },
      "source": [
        "df.set_index(df.Data, inplace=True)"
      ],
      "execution_count": null,
      "outputs": []
    },
    {
      "cell_type": "markdown",
      "metadata": {
        "id": "ypg4skEAgCvW"
      },
      "source": [
        "Após isso, é possível remover a coluna do corpo da tabela usando o método ```drop()``` conforme abaixo."
      ]
    },
    {
      "cell_type": "code",
      "metadata": {
        "id": "3t8sge6PWddz"
      },
      "source": [
        "df = df.drop(columns=\"Data\", axis=1)"
      ],
      "execution_count": null,
      "outputs": []
    },
    {
      "cell_type": "markdown",
      "metadata": {
        "id": "bHfB03yegQq-"
      },
      "source": [
        "Assim, a coluna \"Data\" deixa de fazer parte do corpo da tabela e passa a fazer a função de índice."
      ]
    },
    {
      "cell_type": "code",
      "metadata": {
        "colab": {
          "base_uri": "https://localhost:8080/",
          "height": 450
        },
        "id": "6aS5SlfJXlor",
        "outputId": "2235b4ce-457d-4d29-b624-3ebeb3c65a53"
      },
      "source": [
        "df "
      ],
      "execution_count": null,
      "outputs": [
        {
          "output_type": "execute_result",
          "data": {
            "text/html": [
              "<div>\n",
              "<style scoped>\n",
              "    .dataframe tbody tr th:only-of-type {\n",
              "        vertical-align: middle;\n",
              "    }\n",
              "\n",
              "    .dataframe tbody tr th {\n",
              "        vertical-align: top;\n",
              "    }\n",
              "\n",
              "    .dataframe thead th {\n",
              "        text-align: right;\n",
              "    }\n",
              "</style>\n",
              "<table border=\"1\" class=\"dataframe\">\n",
              "  <thead>\n",
              "    <tr style=\"text-align: right;\">\n",
              "      <th></th>\n",
              "      <th>Modelo</th>\n",
              "      <th>Ano</th>\n",
              "      <th>Mês</th>\n",
              "      <th>UF</th>\n",
              "      <th>Tipo Emissão</th>\n",
              "      <th>Qtde Autorizados</th>\n",
              "      <th>Valor Autorizados</th>\n",
              "      <th>Dados Atualizados Até</th>\n",
              "    </tr>\n",
              "    <tr>\n",
              "      <th>Data</th>\n",
              "      <th></th>\n",
              "      <th></th>\n",
              "      <th></th>\n",
              "      <th></th>\n",
              "      <th></th>\n",
              "      <th></th>\n",
              "      <th></th>\n",
              "      <th></th>\n",
              "    </tr>\n",
              "  </thead>\n",
              "  <tbody>\n",
              "    <tr>\n",
              "      <th>2015-04-02</th>\n",
              "      <td>NFC-e</td>\n",
              "      <td>2015</td>\n",
              "      <td>4</td>\n",
              "      <td>ACRE</td>\n",
              "      <td>Saída</td>\n",
              "      <td>25458</td>\n",
              "      <td>1.832985e+06</td>\n",
              "      <td>2020-11-26</td>\n",
              "    </tr>\n",
              "    <tr>\n",
              "      <th>2015-04-02</th>\n",
              "      <td>NFC-e</td>\n",
              "      <td>2015</td>\n",
              "      <td>4</td>\n",
              "      <td>RONDONIA</td>\n",
              "      <td>Saída</td>\n",
              "      <td>102009</td>\n",
              "      <td>8.151070e+06</td>\n",
              "      <td>2020-11-26</td>\n",
              "    </tr>\n",
              "    <tr>\n",
              "      <th>2015-04-02</th>\n",
              "      <td>NFC-e</td>\n",
              "      <td>2015</td>\n",
              "      <td>4</td>\n",
              "      <td>RORAIMA</td>\n",
              "      <td>Saída</td>\n",
              "      <td>7176</td>\n",
              "      <td>6.677893e+05</td>\n",
              "      <td>2020-11-26</td>\n",
              "    </tr>\n",
              "    <tr>\n",
              "      <th>2015-04-02</th>\n",
              "      <td>MDF-e</td>\n",
              "      <td>2015</td>\n",
              "      <td>4</td>\n",
              "      <td>PIAUI</td>\n",
              "      <td>Saída</td>\n",
              "      <td>170</td>\n",
              "      <td>0.000000e+00</td>\n",
              "      <td>2020-11-26</td>\n",
              "    </tr>\n",
              "    <tr>\n",
              "      <th>2015-04-02</th>\n",
              "      <td>MDF-e</td>\n",
              "      <td>2015</td>\n",
              "      <td>4</td>\n",
              "      <td>RORAIMA</td>\n",
              "      <td>Saída</td>\n",
              "      <td>28</td>\n",
              "      <td>0.000000e+00</td>\n",
              "      <td>2020-11-26</td>\n",
              "    </tr>\n",
              "    <tr>\n",
              "      <th>...</th>\n",
              "      <td>...</td>\n",
              "      <td>...</td>\n",
              "      <td>...</td>\n",
              "      <td>...</td>\n",
              "      <td>...</td>\n",
              "      <td>...</td>\n",
              "      <td>...</td>\n",
              "      <td>...</td>\n",
              "    </tr>\n",
              "    <tr>\n",
              "      <th>2015-05-29</th>\n",
              "      <td>CT-e</td>\n",
              "      <td>2015</td>\n",
              "      <td>5</td>\n",
              "      <td>PIAUI</td>\n",
              "      <td>Saída</td>\n",
              "      <td>3669</td>\n",
              "      <td>2.011658e+06</td>\n",
              "      <td>2020-11-26</td>\n",
              "    </tr>\n",
              "    <tr>\n",
              "      <th>2015-05-29</th>\n",
              "      <td>NF-e</td>\n",
              "      <td>2015</td>\n",
              "      <td>5</td>\n",
              "      <td>SERGIPE</td>\n",
              "      <td>Saída</td>\n",
              "      <td>44325</td>\n",
              "      <td>1.819268e+08</td>\n",
              "      <td>2020-11-26</td>\n",
              "    </tr>\n",
              "    <tr>\n",
              "      <th>2015-05-29</th>\n",
              "      <td>MDF-e</td>\n",
              "      <td>2015</td>\n",
              "      <td>5</td>\n",
              "      <td>ALAGOAS</td>\n",
              "      <td>Saída</td>\n",
              "      <td>292</td>\n",
              "      <td>0.000000e+00</td>\n",
              "      <td>2020-11-26</td>\n",
              "    </tr>\n",
              "    <tr>\n",
              "      <th>2015-08-01</th>\n",
              "      <td>NFC-e</td>\n",
              "      <td>2015</td>\n",
              "      <td>8</td>\n",
              "      <td>RONDONIA</td>\n",
              "      <td>Saída</td>\n",
              "      <td>155721</td>\n",
              "      <td>1.325389e+07</td>\n",
              "      <td>2020-11-26</td>\n",
              "    </tr>\n",
              "    <tr>\n",
              "      <th>2015-08-01</th>\n",
              "      <td>NFC-e</td>\n",
              "      <td>2015</td>\n",
              "      <td>8</td>\n",
              "      <td>PIAUI</td>\n",
              "      <td>Saída</td>\n",
              "      <td>479</td>\n",
              "      <td>1.021909e+05</td>\n",
              "      <td>2020-11-26</td>\n",
              "    </tr>\n",
              "  </tbody>\n",
              "</table>\n",
              "<p>184682 rows × 8 columns</p>\n",
              "</div>"
            ],
            "text/plain": [
              "           Modelo   Ano  ...  Valor Autorizados Dados Atualizados Até\n",
              "Data                     ...                                         \n",
              "2015-04-02  NFC-e  2015  ...       1.832985e+06            2020-11-26\n",
              "2015-04-02  NFC-e  2015  ...       8.151070e+06            2020-11-26\n",
              "2015-04-02  NFC-e  2015  ...       6.677893e+05            2020-11-26\n",
              "2015-04-02  MDF-e  2015  ...       0.000000e+00            2020-11-26\n",
              "2015-04-02  MDF-e  2015  ...       0.000000e+00            2020-11-26\n",
              "...           ...   ...  ...                ...                   ...\n",
              "2015-05-29   CT-e  2015  ...       2.011658e+06            2020-11-26\n",
              "2015-05-29   NF-e  2015  ...       1.819268e+08            2020-11-26\n",
              "2015-05-29  MDF-e  2015  ...       0.000000e+00            2020-11-26\n",
              "2015-08-01  NFC-e  2015  ...       1.325389e+07            2020-11-26\n",
              "2015-08-01  NFC-e  2015  ...       1.021909e+05            2020-11-26\n",
              "\n",
              "[184682 rows x 8 columns]"
            ]
          },
          "metadata": {
            "tags": []
          },
          "execution_count": 22
        }
      ]
    },
    {
      "cell_type": "markdown",
      "metadata": {
        "id": "dlBoZt8ig0NN"
      },
      "source": [
        "#### Tabelas dinâmicas"
      ]
    },
    {
      "cell_type": "markdown",
      "metadata": {
        "id": "mJx4hTTig9GR"
      },
      "source": [
        "Uma das vantagens das aterações realizadas é a obtenção de tabelas dinâmicas de maneira bastante fácil com a função ```pivot_table()```, do Pandas.\n",
        "\n",
        "O exemplo abaixo é uma tabela dinâmica relacionando o valor total de cada tipo de documento fiscal por data. Para isso, foi passado o data frame no primeiro argumento, seguido dos seguintes critérios:\n",
        "\n",
        "* A data (que, agora, é o índice) como índice da tabela;\n",
        "* A coluna \"Modelo\" como coluna;\n",
        "* A coluna \"Valor Autorizados\" como valor;\n",
        "* A soma como tipo de operação agregadora; e \n",
        "* O valor zero para aquelas ocorrências sem valor.\n",
        "\n",
        "Pelo fato de a data estar como índice e estar corretamente convertida para o tipo de data, é possível mudar a periodicidade da tabela de diária para qualquer outra usando o método ```resample()```, que deve ser acompanhado do método que informa qual é a operação agregadora da nova periodicidade.\n",
        "\n",
        "No exemplo, a tabela foi reamostrada com a periodicidade trimestral (\"Q\", de \"quarter\") e a agregação feita pela soma ```sum()```.\n"
      ]
    },
    {
      "cell_type": "code",
      "metadata": {
        "colab": {
          "base_uri": "https://localhost:8080/",
          "height": 1000
        },
        "id": "TyczPG1jWsT8",
        "outputId": "750b863e-8e49-4277-c496-f1e3197d02ff"
      },
      "source": [
        "pd.pivot_table(\n",
        "    df,\n",
        "    index=df.index,\n",
        "    columns=\"Modelo\",\n",
        "    values=\"Valor Autorizados\",\n",
        "    aggfunc=\"sum\",\n",
        "    fill_value=0\n",
        ").resample(\"Q\").sum()"
      ],
      "execution_count": null,
      "outputs": [
        {
          "output_type": "execute_result",
          "data": {
            "text/html": [
              "<div>\n",
              "<style scoped>\n",
              "    .dataframe tbody tr th:only-of-type {\n",
              "        vertical-align: middle;\n",
              "    }\n",
              "\n",
              "    .dataframe tbody tr th {\n",
              "        vertical-align: top;\n",
              "    }\n",
              "\n",
              "    .dataframe thead th {\n",
              "        text-align: right;\n",
              "    }\n",
              "</style>\n",
              "<table border=\"1\" class=\"dataframe\">\n",
              "  <thead>\n",
              "    <tr style=\"text-align: right;\">\n",
              "      <th>Modelo</th>\n",
              "      <th>BP-e</th>\n",
              "      <th>CT-e</th>\n",
              "      <th>CT-e OS</th>\n",
              "      <th>MDF-e</th>\n",
              "      <th>NF-e</th>\n",
              "      <th>NFC-e</th>\n",
              "    </tr>\n",
              "    <tr>\n",
              "      <th>Data</th>\n",
              "      <th></th>\n",
              "      <th></th>\n",
              "      <th></th>\n",
              "      <th></th>\n",
              "      <th></th>\n",
              "      <th></th>\n",
              "    </tr>\n",
              "  </thead>\n",
              "  <tbody>\n",
              "    <tr>\n",
              "      <th>2006-09-30</th>\n",
              "      <td>0.000000e+00</td>\n",
              "      <td>0.000000e+00</td>\n",
              "      <td>0.000000e+00</td>\n",
              "      <td>0</td>\n",
              "      <td>9.200402e+05</td>\n",
              "      <td>0.000000e+00</td>\n",
              "    </tr>\n",
              "    <tr>\n",
              "      <th>2006-12-31</th>\n",
              "      <td>0.000000e+00</td>\n",
              "      <td>0.000000e+00</td>\n",
              "      <td>0.000000e+00</td>\n",
              "      <td>0</td>\n",
              "      <td>9.542649e+07</td>\n",
              "      <td>0.000000e+00</td>\n",
              "    </tr>\n",
              "    <tr>\n",
              "      <th>2007-03-31</th>\n",
              "      <td>0.000000e+00</td>\n",
              "      <td>0.000000e+00</td>\n",
              "      <td>0.000000e+00</td>\n",
              "      <td>0</td>\n",
              "      <td>7.094113e+08</td>\n",
              "      <td>0.000000e+00</td>\n",
              "    </tr>\n",
              "    <tr>\n",
              "      <th>2007-06-30</th>\n",
              "      <td>0.000000e+00</td>\n",
              "      <td>0.000000e+00</td>\n",
              "      <td>0.000000e+00</td>\n",
              "      <td>0</td>\n",
              "      <td>1.265989e+09</td>\n",
              "      <td>0.000000e+00</td>\n",
              "    </tr>\n",
              "    <tr>\n",
              "      <th>2007-09-30</th>\n",
              "      <td>0.000000e+00</td>\n",
              "      <td>0.000000e+00</td>\n",
              "      <td>0.000000e+00</td>\n",
              "      <td>0</td>\n",
              "      <td>1.931065e+09</td>\n",
              "      <td>0.000000e+00</td>\n",
              "    </tr>\n",
              "    <tr>\n",
              "      <th>2007-12-31</th>\n",
              "      <td>0.000000e+00</td>\n",
              "      <td>0.000000e+00</td>\n",
              "      <td>0.000000e+00</td>\n",
              "      <td>0</td>\n",
              "      <td>2.316399e+09</td>\n",
              "      <td>0.000000e+00</td>\n",
              "    </tr>\n",
              "    <tr>\n",
              "      <th>2008-03-31</th>\n",
              "      <td>0.000000e+00</td>\n",
              "      <td>0.000000e+00</td>\n",
              "      <td>0.000000e+00</td>\n",
              "      <td>0</td>\n",
              "      <td>4.132677e+09</td>\n",
              "      <td>0.000000e+00</td>\n",
              "    </tr>\n",
              "    <tr>\n",
              "      <th>2008-06-30</th>\n",
              "      <td>0.000000e+00</td>\n",
              "      <td>0.000000e+00</td>\n",
              "      <td>0.000000e+00</td>\n",
              "      <td>0</td>\n",
              "      <td>7.123460e+10</td>\n",
              "      <td>0.000000e+00</td>\n",
              "    </tr>\n",
              "    <tr>\n",
              "      <th>2008-09-30</th>\n",
              "      <td>0.000000e+00</td>\n",
              "      <td>0.000000e+00</td>\n",
              "      <td>0.000000e+00</td>\n",
              "      <td>0</td>\n",
              "      <td>8.553951e+10</td>\n",
              "      <td>0.000000e+00</td>\n",
              "    </tr>\n",
              "    <tr>\n",
              "      <th>2008-12-31</th>\n",
              "      <td>0.000000e+00</td>\n",
              "      <td>0.000000e+00</td>\n",
              "      <td>0.000000e+00</td>\n",
              "      <td>0</td>\n",
              "      <td>1.916409e+11</td>\n",
              "      <td>0.000000e+00</td>\n",
              "    </tr>\n",
              "    <tr>\n",
              "      <th>2009-03-31</th>\n",
              "      <td>0.000000e+00</td>\n",
              "      <td>9.864754e+05</td>\n",
              "      <td>0.000000e+00</td>\n",
              "      <td>0</td>\n",
              "      <td>1.996881e+11</td>\n",
              "      <td>0.000000e+00</td>\n",
              "    </tr>\n",
              "    <tr>\n",
              "      <th>2009-06-30</th>\n",
              "      <td>0.000000e+00</td>\n",
              "      <td>1.000341e+07</td>\n",
              "      <td>0.000000e+00</td>\n",
              "      <td>0</td>\n",
              "      <td>1.797672e+11</td>\n",
              "      <td>0.000000e+00</td>\n",
              "    </tr>\n",
              "    <tr>\n",
              "      <th>2009-09-30</th>\n",
              "      <td>0.000000e+00</td>\n",
              "      <td>1.084519e+07</td>\n",
              "      <td>0.000000e+00</td>\n",
              "      <td>0</td>\n",
              "      <td>2.842022e+11</td>\n",
              "      <td>0.000000e+00</td>\n",
              "    </tr>\n",
              "    <tr>\n",
              "      <th>2009-12-31</th>\n",
              "      <td>0.000000e+00</td>\n",
              "      <td>5.193872e+07</td>\n",
              "      <td>0.000000e+00</td>\n",
              "      <td>0</td>\n",
              "      <td>5.388580e+11</td>\n",
              "      <td>0.000000e+00</td>\n",
              "    </tr>\n",
              "    <tr>\n",
              "      <th>2010-03-31</th>\n",
              "      <td>0.000000e+00</td>\n",
              "      <td>8.750697e+07</td>\n",
              "      <td>0.000000e+00</td>\n",
              "      <td>0</td>\n",
              "      <td>1.949213e+13</td>\n",
              "      <td>0.000000e+00</td>\n",
              "    </tr>\n",
              "    <tr>\n",
              "      <th>2010-06-30</th>\n",
              "      <td>0.000000e+00</td>\n",
              "      <td>1.614757e+08</td>\n",
              "      <td>0.000000e+00</td>\n",
              "      <td>0</td>\n",
              "      <td>2.011434e+13</td>\n",
              "      <td>0.000000e+00</td>\n",
              "    </tr>\n",
              "    <tr>\n",
              "      <th>2010-09-30</th>\n",
              "      <td>0.000000e+00</td>\n",
              "      <td>1.974100e+08</td>\n",
              "      <td>0.000000e+00</td>\n",
              "      <td>0</td>\n",
              "      <td>3.610106e+11</td>\n",
              "      <td>0.000000e+00</td>\n",
              "    </tr>\n",
              "    <tr>\n",
              "      <th>2010-12-31</th>\n",
              "      <td>0.000000e+00</td>\n",
              "      <td>6.061904e+08</td>\n",
              "      <td>0.000000e+00</td>\n",
              "      <td>0</td>\n",
              "      <td>6.049245e+11</td>\n",
              "      <td>0.000000e+00</td>\n",
              "    </tr>\n",
              "    <tr>\n",
              "      <th>2011-03-31</th>\n",
              "      <td>0.000000e+00</td>\n",
              "      <td>1.070579e+09</td>\n",
              "      <td>0.000000e+00</td>\n",
              "      <td>0</td>\n",
              "      <td>4.742414e+11</td>\n",
              "      <td>0.000000e+00</td>\n",
              "    </tr>\n",
              "    <tr>\n",
              "      <th>2011-06-30</th>\n",
              "      <td>0.000000e+00</td>\n",
              "      <td>1.187569e+09</td>\n",
              "      <td>0.000000e+00</td>\n",
              "      <td>0</td>\n",
              "      <td>6.391801e+11</td>\n",
              "      <td>0.000000e+00</td>\n",
              "    </tr>\n",
              "    <tr>\n",
              "      <th>2011-09-30</th>\n",
              "      <td>0.000000e+00</td>\n",
              "      <td>1.357289e+09</td>\n",
              "      <td>0.000000e+00</td>\n",
              "      <td>0</td>\n",
              "      <td>5.639458e+11</td>\n",
              "      <td>0.000000e+00</td>\n",
              "    </tr>\n",
              "    <tr>\n",
              "      <th>2011-12-31</th>\n",
              "      <td>0.000000e+00</td>\n",
              "      <td>1.898783e+09</td>\n",
              "      <td>0.000000e+00</td>\n",
              "      <td>0</td>\n",
              "      <td>5.992227e+11</td>\n",
              "      <td>0.000000e+00</td>\n",
              "    </tr>\n",
              "    <tr>\n",
              "      <th>2012-03-31</th>\n",
              "      <td>0.000000e+00</td>\n",
              "      <td>2.529557e+09</td>\n",
              "      <td>0.000000e+00</td>\n",
              "      <td>0</td>\n",
              "      <td>5.177576e+11</td>\n",
              "      <td>0.000000e+00</td>\n",
              "    </tr>\n",
              "    <tr>\n",
              "      <th>2012-06-30</th>\n",
              "      <td>0.000000e+00</td>\n",
              "      <td>5.105528e+12</td>\n",
              "      <td>0.000000e+00</td>\n",
              "      <td>0</td>\n",
              "      <td>5.126402e+11</td>\n",
              "      <td>0.000000e+00</td>\n",
              "    </tr>\n",
              "    <tr>\n",
              "      <th>2012-09-30</th>\n",
              "      <td>0.000000e+00</td>\n",
              "      <td>3.480042e+09</td>\n",
              "      <td>0.000000e+00</td>\n",
              "      <td>0</td>\n",
              "      <td>5.325763e+11</td>\n",
              "      <td>0.000000e+00</td>\n",
              "    </tr>\n",
              "    <tr>\n",
              "      <th>2012-12-31</th>\n",
              "      <td>0.000000e+00</td>\n",
              "      <td>2.765081e+12</td>\n",
              "      <td>0.000000e+00</td>\n",
              "      <td>0</td>\n",
              "      <td>6.045441e+11</td>\n",
              "      <td>0.000000e+00</td>\n",
              "    </tr>\n",
              "    <tr>\n",
              "      <th>2013-03-31</th>\n",
              "      <td>0.000000e+00</td>\n",
              "      <td>2.761649e+12</td>\n",
              "      <td>0.000000e+00</td>\n",
              "      <td>0</td>\n",
              "      <td>5.259450e+11</td>\n",
              "      <td>1.420894e+04</td>\n",
              "    </tr>\n",
              "    <tr>\n",
              "      <th>2013-06-30</th>\n",
              "      <td>0.000000e+00</td>\n",
              "      <td>9.895104e+09</td>\n",
              "      <td>0.000000e+00</td>\n",
              "      <td>0</td>\n",
              "      <td>5.211835e+11</td>\n",
              "      <td>8.565852e+05</td>\n",
              "    </tr>\n",
              "    <tr>\n",
              "      <th>2013-09-30</th>\n",
              "      <td>0.000000e+00</td>\n",
              "      <td>3.658394e+10</td>\n",
              "      <td>0.000000e+00</td>\n",
              "      <td>0</td>\n",
              "      <td>5.962133e+11</td>\n",
              "      <td>7.657190e+06</td>\n",
              "    </tr>\n",
              "    <tr>\n",
              "      <th>2013-12-31</th>\n",
              "      <td>0.000000e+00</td>\n",
              "      <td>2.410631e+10</td>\n",
              "      <td>0.000000e+00</td>\n",
              "      <td>0</td>\n",
              "      <td>5.673461e+11</td>\n",
              "      <td>1.486952e+07</td>\n",
              "    </tr>\n",
              "    <tr>\n",
              "      <th>2014-03-31</th>\n",
              "      <td>0.000000e+00</td>\n",
              "      <td>1.219793e+12</td>\n",
              "      <td>0.000000e+00</td>\n",
              "      <td>0</td>\n",
              "      <td>5.789481e+11</td>\n",
              "      <td>1.886952e+07</td>\n",
              "    </tr>\n",
              "    <tr>\n",
              "      <th>2014-06-30</th>\n",
              "      <td>0.000000e+00</td>\n",
              "      <td>1.788832e+12</td>\n",
              "      <td>0.000000e+00</td>\n",
              "      <td>0</td>\n",
              "      <td>6.217881e+11</td>\n",
              "      <td>5.389799e+07</td>\n",
              "    </tr>\n",
              "    <tr>\n",
              "      <th>2014-09-30</th>\n",
              "      <td>0.000000e+00</td>\n",
              "      <td>1.094684e+10</td>\n",
              "      <td>0.000000e+00</td>\n",
              "      <td>0</td>\n",
              "      <td>6.790012e+11</td>\n",
              "      <td>1.933150e+08</td>\n",
              "    </tr>\n",
              "    <tr>\n",
              "      <th>2014-12-31</th>\n",
              "      <td>0.000000e+00</td>\n",
              "      <td>1.106249e+10</td>\n",
              "      <td>0.000000e+00</td>\n",
              "      <td>0</td>\n",
              "      <td>6.938594e+11</td>\n",
              "      <td>9.804764e+08</td>\n",
              "    </tr>\n",
              "    <tr>\n",
              "      <th>2015-03-31</th>\n",
              "      <td>0.000000e+00</td>\n",
              "      <td>1.048000e+10</td>\n",
              "      <td>0.000000e+00</td>\n",
              "      <td>0</td>\n",
              "      <td>6.146774e+11</td>\n",
              "      <td>1.872968e+09</td>\n",
              "    </tr>\n",
              "    <tr>\n",
              "      <th>2015-06-30</th>\n",
              "      <td>0.000000e+00</td>\n",
              "      <td>1.093492e+10</td>\n",
              "      <td>0.000000e+00</td>\n",
              "      <td>0</td>\n",
              "      <td>6.551658e+11</td>\n",
              "      <td>3.815361e+09</td>\n",
              "    </tr>\n",
              "    <tr>\n",
              "      <th>2015-09-30</th>\n",
              "      <td>0.000000e+00</td>\n",
              "      <td>1.159008e+10</td>\n",
              "      <td>0.000000e+00</td>\n",
              "      <td>0</td>\n",
              "      <td>5.719647e+11</td>\n",
              "      <td>7.851674e+09</td>\n",
              "    </tr>\n",
              "    <tr>\n",
              "      <th>2015-12-31</th>\n",
              "      <td>0.000000e+00</td>\n",
              "      <td>1.119588e+10</td>\n",
              "      <td>0.000000e+00</td>\n",
              "      <td>0</td>\n",
              "      <td>5.477083e+11</td>\n",
              "      <td>1.397794e+10</td>\n",
              "    </tr>\n",
              "    <tr>\n",
              "      <th>2016-03-31</th>\n",
              "      <td>0.000000e+00</td>\n",
              "      <td>1.035957e+10</td>\n",
              "      <td>0.000000e+00</td>\n",
              "      <td>0</td>\n",
              "      <td>6.123774e+11</td>\n",
              "      <td>1.655381e+10</td>\n",
              "    </tr>\n",
              "    <tr>\n",
              "      <th>2016-06-30</th>\n",
              "      <td>0.000000e+00</td>\n",
              "      <td>1.462413e+10</td>\n",
              "      <td>0.000000e+00</td>\n",
              "      <td>0</td>\n",
              "      <td>6.571361e+11</td>\n",
              "      <td>2.288625e+10</td>\n",
              "    </tr>\n",
              "    <tr>\n",
              "      <th>2016-09-30</th>\n",
              "      <td>0.000000e+00</td>\n",
              "      <td>1.107795e+10</td>\n",
              "      <td>0.000000e+00</td>\n",
              "      <td>0</td>\n",
              "      <td>6.561440e+11</td>\n",
              "      <td>3.413009e+10</td>\n",
              "    </tr>\n",
              "    <tr>\n",
              "      <th>2016-12-31</th>\n",
              "      <td>0.000000e+00</td>\n",
              "      <td>1.111489e+10</td>\n",
              "      <td>0.000000e+00</td>\n",
              "      <td>0</td>\n",
              "      <td>6.366413e+11</td>\n",
              "      <td>4.942730e+10</td>\n",
              "    </tr>\n",
              "    <tr>\n",
              "      <th>2017-03-31</th>\n",
              "      <td>0.000000e+00</td>\n",
              "      <td>1.096934e+10</td>\n",
              "      <td>0.000000e+00</td>\n",
              "      <td>0</td>\n",
              "      <td>6.111176e+11</td>\n",
              "      <td>5.482485e+10</td>\n",
              "    </tr>\n",
              "    <tr>\n",
              "      <th>2017-06-30</th>\n",
              "      <td>0.000000e+00</td>\n",
              "      <td>1.207968e+10</td>\n",
              "      <td>1.200000e+01</td>\n",
              "      <td>0</td>\n",
              "      <td>6.545669e+11</td>\n",
              "      <td>6.760477e+10</td>\n",
              "    </tr>\n",
              "    <tr>\n",
              "      <th>2017-09-30</th>\n",
              "      <td>0.000000e+00</td>\n",
              "      <td>1.202277e+10</td>\n",
              "      <td>9.086229e+06</td>\n",
              "      <td>0</td>\n",
              "      <td>6.924939e+11</td>\n",
              "      <td>8.217854e+10</td>\n",
              "    </tr>\n",
              "    <tr>\n",
              "      <th>2017-12-31</th>\n",
              "      <td>0.000000e+00</td>\n",
              "      <td>1.269233e+10</td>\n",
              "      <td>7.278335e+08</td>\n",
              "      <td>0</td>\n",
              "      <td>7.330700e+11</td>\n",
              "      <td>1.008536e+11</td>\n",
              "    </tr>\n",
              "    <tr>\n",
              "      <th>2018-03-31</th>\n",
              "      <td>2.007539e+06</td>\n",
              "      <td>1.207064e+10</td>\n",
              "      <td>7.800193e+08</td>\n",
              "      <td>0</td>\n",
              "      <td>7.350968e+11</td>\n",
              "      <td>9.828991e+10</td>\n",
              "    </tr>\n",
              "    <tr>\n",
              "      <th>2018-06-30</th>\n",
              "      <td>5.018442e+06</td>\n",
              "      <td>1.339686e+10</td>\n",
              "      <td>8.274270e+08</td>\n",
              "      <td>0</td>\n",
              "      <td>7.352549e+11</td>\n",
              "      <td>1.031225e+11</td>\n",
              "    </tr>\n",
              "    <tr>\n",
              "      <th>2018-09-30</th>\n",
              "      <td>6.778127e+07</td>\n",
              "      <td>1.560756e+10</td>\n",
              "      <td>9.245546e+08</td>\n",
              "      <td>0</td>\n",
              "      <td>8.139192e+11</td>\n",
              "      <td>1.117072e+11</td>\n",
              "    </tr>\n",
              "    <tr>\n",
              "      <th>2018-12-31</th>\n",
              "      <td>2.144940e+08</td>\n",
              "      <td>1.635849e+10</td>\n",
              "      <td>9.984527e+08</td>\n",
              "      <td>0</td>\n",
              "      <td>8.380029e+11</td>\n",
              "      <td>1.309552e+11</td>\n",
              "    </tr>\n",
              "    <tr>\n",
              "      <th>2019-03-31</th>\n",
              "      <td>3.409986e+08</td>\n",
              "      <td>1.353949e+10</td>\n",
              "      <td>9.331009e+08</td>\n",
              "      <td>0</td>\n",
              "      <td>7.295814e+11</td>\n",
              "      <td>1.225509e+11</td>\n",
              "    </tr>\n",
              "    <tr>\n",
              "      <th>2019-06-30</th>\n",
              "      <td>4.735501e+08</td>\n",
              "      <td>1.409455e+10</td>\n",
              "      <td>9.887600e+08</td>\n",
              "      <td>0</td>\n",
              "      <td>8.260134e+11</td>\n",
              "      <td>1.270621e+11</td>\n",
              "    </tr>\n",
              "    <tr>\n",
              "      <th>2019-09-30</th>\n",
              "      <td>1.035198e+09</td>\n",
              "      <td>1.505286e+10</td>\n",
              "      <td>1.110035e+09</td>\n",
              "      <td>0</td>\n",
              "      <td>8.734303e+11</td>\n",
              "      <td>1.298072e+11</td>\n",
              "    </tr>\n",
              "    <tr>\n",
              "      <th>2019-12-31</th>\n",
              "      <td>1.322113e+09</td>\n",
              "      <td>1.522839e+10</td>\n",
              "      <td>1.178104e+09</td>\n",
              "      <td>0</td>\n",
              "      <td>8.678440e+11</td>\n",
              "      <td>1.487723e+11</td>\n",
              "    </tr>\n",
              "    <tr>\n",
              "      <th>2020-03-31</th>\n",
              "      <td>1.201486e+09</td>\n",
              "      <td>1.399673e+10</td>\n",
              "      <td>1.064515e+09</td>\n",
              "      <td>0</td>\n",
              "      <td>8.232723e+11</td>\n",
              "      <td>1.299369e+11</td>\n",
              "    </tr>\n",
              "    <tr>\n",
              "      <th>2020-06-30</th>\n",
              "      <td>1.616156e+08</td>\n",
              "      <td>1.388137e+10</td>\n",
              "      <td>7.980838e+08</td>\n",
              "      <td>0</td>\n",
              "      <td>7.565793e+11</td>\n",
              "      <td>1.102260e+11</td>\n",
              "    </tr>\n",
              "    <tr>\n",
              "      <th>2020-09-30</th>\n",
              "      <td>4.233280e+08</td>\n",
              "      <td>1.652695e+10</td>\n",
              "      <td>8.569587e+08</td>\n",
              "      <td>0</td>\n",
              "      <td>9.143278e+11</td>\n",
              "      <td>1.370826e+11</td>\n",
              "    </tr>\n",
              "    <tr>\n",
              "      <th>2020-12-31</th>\n",
              "      <td>4.870209e+08</td>\n",
              "      <td>1.080600e+10</td>\n",
              "      <td>6.145848e+08</td>\n",
              "      <td>0</td>\n",
              "      <td>5.873863e+11</td>\n",
              "      <td>9.345976e+10</td>\n",
              "    </tr>\n",
              "  </tbody>\n",
              "</table>\n",
              "</div>"
            ],
            "text/plain": [
              "Modelo              BP-e          CT-e  ...          NF-e         NFC-e\n",
              "Data                                    ...                            \n",
              "2006-09-30  0.000000e+00  0.000000e+00  ...  9.200402e+05  0.000000e+00\n",
              "2006-12-31  0.000000e+00  0.000000e+00  ...  9.542649e+07  0.000000e+00\n",
              "2007-03-31  0.000000e+00  0.000000e+00  ...  7.094113e+08  0.000000e+00\n",
              "2007-06-30  0.000000e+00  0.000000e+00  ...  1.265989e+09  0.000000e+00\n",
              "2007-09-30  0.000000e+00  0.000000e+00  ...  1.931065e+09  0.000000e+00\n",
              "2007-12-31  0.000000e+00  0.000000e+00  ...  2.316399e+09  0.000000e+00\n",
              "2008-03-31  0.000000e+00  0.000000e+00  ...  4.132677e+09  0.000000e+00\n",
              "2008-06-30  0.000000e+00  0.000000e+00  ...  7.123460e+10  0.000000e+00\n",
              "2008-09-30  0.000000e+00  0.000000e+00  ...  8.553951e+10  0.000000e+00\n",
              "2008-12-31  0.000000e+00  0.000000e+00  ...  1.916409e+11  0.000000e+00\n",
              "2009-03-31  0.000000e+00  9.864754e+05  ...  1.996881e+11  0.000000e+00\n",
              "2009-06-30  0.000000e+00  1.000341e+07  ...  1.797672e+11  0.000000e+00\n",
              "2009-09-30  0.000000e+00  1.084519e+07  ...  2.842022e+11  0.000000e+00\n",
              "2009-12-31  0.000000e+00  5.193872e+07  ...  5.388580e+11  0.000000e+00\n",
              "2010-03-31  0.000000e+00  8.750697e+07  ...  1.949213e+13  0.000000e+00\n",
              "2010-06-30  0.000000e+00  1.614757e+08  ...  2.011434e+13  0.000000e+00\n",
              "2010-09-30  0.000000e+00  1.974100e+08  ...  3.610106e+11  0.000000e+00\n",
              "2010-12-31  0.000000e+00  6.061904e+08  ...  6.049245e+11  0.000000e+00\n",
              "2011-03-31  0.000000e+00  1.070579e+09  ...  4.742414e+11  0.000000e+00\n",
              "2011-06-30  0.000000e+00  1.187569e+09  ...  6.391801e+11  0.000000e+00\n",
              "2011-09-30  0.000000e+00  1.357289e+09  ...  5.639458e+11  0.000000e+00\n",
              "2011-12-31  0.000000e+00  1.898783e+09  ...  5.992227e+11  0.000000e+00\n",
              "2012-03-31  0.000000e+00  2.529557e+09  ...  5.177576e+11  0.000000e+00\n",
              "2012-06-30  0.000000e+00  5.105528e+12  ...  5.126402e+11  0.000000e+00\n",
              "2012-09-30  0.000000e+00  3.480042e+09  ...  5.325763e+11  0.000000e+00\n",
              "2012-12-31  0.000000e+00  2.765081e+12  ...  6.045441e+11  0.000000e+00\n",
              "2013-03-31  0.000000e+00  2.761649e+12  ...  5.259450e+11  1.420894e+04\n",
              "2013-06-30  0.000000e+00  9.895104e+09  ...  5.211835e+11  8.565852e+05\n",
              "2013-09-30  0.000000e+00  3.658394e+10  ...  5.962133e+11  7.657190e+06\n",
              "2013-12-31  0.000000e+00  2.410631e+10  ...  5.673461e+11  1.486952e+07\n",
              "2014-03-31  0.000000e+00  1.219793e+12  ...  5.789481e+11  1.886952e+07\n",
              "2014-06-30  0.000000e+00  1.788832e+12  ...  6.217881e+11  5.389799e+07\n",
              "2014-09-30  0.000000e+00  1.094684e+10  ...  6.790012e+11  1.933150e+08\n",
              "2014-12-31  0.000000e+00  1.106249e+10  ...  6.938594e+11  9.804764e+08\n",
              "2015-03-31  0.000000e+00  1.048000e+10  ...  6.146774e+11  1.872968e+09\n",
              "2015-06-30  0.000000e+00  1.093492e+10  ...  6.551658e+11  3.815361e+09\n",
              "2015-09-30  0.000000e+00  1.159008e+10  ...  5.719647e+11  7.851674e+09\n",
              "2015-12-31  0.000000e+00  1.119588e+10  ...  5.477083e+11  1.397794e+10\n",
              "2016-03-31  0.000000e+00  1.035957e+10  ...  6.123774e+11  1.655381e+10\n",
              "2016-06-30  0.000000e+00  1.462413e+10  ...  6.571361e+11  2.288625e+10\n",
              "2016-09-30  0.000000e+00  1.107795e+10  ...  6.561440e+11  3.413009e+10\n",
              "2016-12-31  0.000000e+00  1.111489e+10  ...  6.366413e+11  4.942730e+10\n",
              "2017-03-31  0.000000e+00  1.096934e+10  ...  6.111176e+11  5.482485e+10\n",
              "2017-06-30  0.000000e+00  1.207968e+10  ...  6.545669e+11  6.760477e+10\n",
              "2017-09-30  0.000000e+00  1.202277e+10  ...  6.924939e+11  8.217854e+10\n",
              "2017-12-31  0.000000e+00  1.269233e+10  ...  7.330700e+11  1.008536e+11\n",
              "2018-03-31  2.007539e+06  1.207064e+10  ...  7.350968e+11  9.828991e+10\n",
              "2018-06-30  5.018442e+06  1.339686e+10  ...  7.352549e+11  1.031225e+11\n",
              "2018-09-30  6.778127e+07  1.560756e+10  ...  8.139192e+11  1.117072e+11\n",
              "2018-12-31  2.144940e+08  1.635849e+10  ...  8.380029e+11  1.309552e+11\n",
              "2019-03-31  3.409986e+08  1.353949e+10  ...  7.295814e+11  1.225509e+11\n",
              "2019-06-30  4.735501e+08  1.409455e+10  ...  8.260134e+11  1.270621e+11\n",
              "2019-09-30  1.035198e+09  1.505286e+10  ...  8.734303e+11  1.298072e+11\n",
              "2019-12-31  1.322113e+09  1.522839e+10  ...  8.678440e+11  1.487723e+11\n",
              "2020-03-31  1.201486e+09  1.399673e+10  ...  8.232723e+11  1.299369e+11\n",
              "2020-06-30  1.616156e+08  1.388137e+10  ...  7.565793e+11  1.102260e+11\n",
              "2020-09-30  4.233280e+08  1.652695e+10  ...  9.143278e+11  1.370826e+11\n",
              "2020-12-31  4.870209e+08  1.080600e+10  ...  5.873863e+11  9.345976e+10\n",
              "\n",
              "[58 rows x 6 columns]"
            ]
          },
          "metadata": {
            "tags": []
          },
          "execution_count": 23
        }
      ]
    },
    {
      "cell_type": "markdown",
      "metadata": {
        "id": "yHk-EDfnFV8u"
      },
      "source": [
        "## Regressão Linear"
      ]
    },
    {
      "cell_type": "markdown",
      "metadata": {
        "id": "oewGGvPUFY3e"
      },
      "source": [
        "_[(Assista aqui.)](https://youtu.be/V3yxEA9u07o?t=1055)_ Regressão linear é um dos principais instrumentos utilizados pelos Economistas. Aqui, será utilizado uma base de dados encontrada no livro Gujarati & Potter e que está disponibilizada no site [econometrics.com](https://www.econometrics.com).\n",
        "\n"
      ]
    },
    {
      "cell_type": "code",
      "metadata": {
        "id": "RXvrwn49E_O3"
      },
      "source": [
        "gujarati = \"http://www.econometrics.com/comdata/gujarati/data_8.3.shd\""
      ],
      "execution_count": null,
      "outputs": []
    },
    {
      "cell_type": "markdown",
      "metadata": {
        "id": "kh26oY9xFxLl"
      },
      "source": [
        "A tabela relaciona dados anuais de PIB, capital e trabalho para a estimativa de uma função Cobb-Douglas.\n",
        "\n",
        "A base de dados foi carregada usando a função de carregamento de arquivo de colunas fixas (FWF), que é a que mais se aproxima do formato do arquivo. O arquivo pode ser dividido em três colunas que estão dispostas com 8, 5 e 7 caracteres de comprimento cada informação expressa no array ```[8, 5, 7]``` pelo argumento ```width```. Também foi informado ao pandas que o arquivo não possui cabeçalhos ```header=None``` bem como foram dados nomes para elas ```names=[\"pib\", \"trabalho\", \"capital\"]```."
      ]
    },
    {
      "cell_type": "code",
      "metadata": {
        "id": "o991yM1bEwlp"
      },
      "source": [
        "dados = pd.read_fwf(\n",
        "    gujarati,\n",
        "    header=None,\n",
        "    widths=[8,5,7],\n",
        "    names=[\"pib\", \"trabalho\", \"capital\"]\n",
        ")"
      ],
      "execution_count": null,
      "outputs": []
    },
    {
      "cell_type": "markdown",
      "metadata": {
        "id": "ZB0PXJBk45d_"
      },
      "source": [
        "O índice genérico gerado automaticamente pelo Pandas foi substituído pelo ano correspondente a cada dado. Isso foi feito atribuíndo ao índice da tabela ```dados.index``` uma sequência gerada pela função ```date_range()``` do Pandas, que é específica para a geração automática de datas. Na função, foram passados os argumentos referentes ao ano inicial ```\"1955\"```, à periodicidade anual ```\"Y\"``` através do argumento ```freq``` e à quantidade de períodos, pelo argumento ```periods```.\n",
        "\n",
        "Ao invés de informar a quantidade de períodos por _hard-code_, isso foi feito passando à função a quantidade de linhas que o data frame possui, através de outra função, a ```len()```. que possui como argumento o data frame. Embora nesse caso não represente qualquer vantagem, essa alternativa evita a quebra do data frame no caso de fontes de dados que são periodicamente atualizadas ou dinâmicas, uma vez que toma automaticamente a quantidade de linhas do conjunto de dados mesmo que ele se altere.\n",
        "\n",
        "Por fim, para que o índice exiba a data sem os dados de mês e dia, o índice foi formatado pelo método ```strftime()``` que, pelo argumumento ```\"%Y\"``` informa que apenas o ano da data deve ser exibido."
      ]
    },
    {
      "cell_type": "code",
      "metadata": {
        "id": "P5D0ChGhJNdt"
      },
      "source": [
        "dados.index = pd.date_range(\n",
        "    \"1955\", \n",
        "    freq=\"Y\", \n",
        "    periods=len(dados)\n",
        ").strftime(\"%Y\")"
      ],
      "execution_count": null,
      "outputs": []
    },
    {
      "cell_type": "markdown",
      "metadata": {
        "id": "sD_C4M5S7OTv"
      },
      "source": [
        "Por último, foi realizada a conversão dos dados, que, por representarem valores, foram convertidos para o formato float através de um loop ```for```, evitando repetição de código."
      ]
    },
    {
      "cell_type": "code",
      "metadata": {
        "id": "GvRRdtrFMuID"
      },
      "source": [
        "for coluna in dados: dados[coluna] = dados[coluna].astype(\"float\")"
      ],
      "execution_count": null,
      "outputs": []
    },
    {
      "cell_type": "markdown",
      "metadata": {
        "id": "YosNSYmL_YIp"
      },
      "source": [
        "### Modelagem"
      ]
    },
    {
      "cell_type": "markdown",
      "metadata": {
        "id": "hUroNVZG_dN6"
      },
      "source": [
        "_[(Assista aqui.)](https://youtu.be/V3yxEA9u07o?t=845)_ Para a realização da modelagem, é necessária a importação do pacote ```statsmodels.formula.api```."
      ]
    },
    {
      "cell_type": "code",
      "metadata": {
        "id": "v4bXglfG_eeX"
      },
      "source": [
        "import statsmodels.formula.api as smf"
      ],
      "execution_count": null,
      "outputs": []
    },
    {
      "cell_type": "markdown",
      "metadata": {
        "id": "v_eq01geAuvC"
      },
      "source": [
        "Conforme mencionado, o exemplo destina-se à estimação de uma função Cobb-Douglas, que é expressa por: \n",
        "\n",
        "$Y = K^\\alpha L^{(1 - \\alpha)}$ \\\\\n",
        "\n",
        "Para atender à lineridade dos parâmetros exigida pelos mínimos quadrados ordinários, no entanto, o exemplo propõe uma transformação monotônica:\n",
        "\n",
        "$ln(Y) = \\alpha ln(K) + (1-\\alpha) ln(L)$\n",
        "\n",
        "Para o cálculo dos logarítmos envolvidos na transformação monotônica, é necessária a importação do pacote ```numpy```."
      ]
    },
    {
      "cell_type": "code",
      "metadata": {
        "id": "RR-w7st7CWJs"
      },
      "source": [
        "import numpy as np"
      ],
      "execution_count": null,
      "outputs": []
    },
    {
      "cell_type": "markdown",
      "metadata": {
        "id": "Jng5okEtCYIf"
      },
      "source": [
        "_[(Assista aqui.)](https://youtu.be/V3yxEA9u07o?t=3325)_ Para a estimação do modelo foi usada função ```ols``` do pacote Stats Models. A especificação do modelo é realizada pelo argumento ```\"np.log(pib) ~ np.log(trabalho) + np.log(capital)\"``` tendo sido também passado o data frame onde encontram-se os dados. O método ```fit()``` inicializa a estimação do modelo."
      ]
    },
    {
      "cell_type": "code",
      "metadata": {
        "id": "zjHfaoa7MaHw"
      },
      "source": [
        "modelo = smf.ols(\"np.log(pib) ~ np.log(trabalho) + np.log(capital)\", dados).fit()"
      ],
      "execution_count": null,
      "outputs": []
    },
    {
      "cell_type": "markdown",
      "metadata": {
        "id": "41eFpQA1D-ME"
      },
      "source": [
        "O método ```summary()``` exibe os resultados da estimação. Para que a formatação seja exibida de acordo com a formatação proposta pelo pacote, é necessário exibir através da função ```print()```"
      ]
    },
    {
      "cell_type": "code",
      "metadata": {
        "colab": {
          "base_uri": "https://localhost:8080/"
        },
        "id": "SYOa1L2eO7g5",
        "outputId": "cc777df6-bf38-4862-f959-b6a4020189e5"
      },
      "source": [
        "print(modelo.summary())"
      ],
      "execution_count": null,
      "outputs": [
        {
          "output_type": "stream",
          "text": [
            "                            OLS Regression Results                            \n",
            "==============================================================================\n",
            "Dep. Variable:            np.log(pib)   R-squared:                       0.995\n",
            "Model:                            OLS   Adj. R-squared:                  0.995\n",
            "Method:                 Least Squares   F-statistic:                     1719.\n",
            "Date:                Sun, 29 Nov 2020   Prob (F-statistic):           2.41e-20\n",
            "Time:                        21:05:28   Log-Likelihood:                 44.552\n",
            "No. Observations:                  20   AIC:                            -83.10\n",
            "Df Residuals:                      17   BIC:                            -80.12\n",
            "Df Model:                           2                                         \n",
            "Covariance Type:            nonrobust                                         \n",
            "====================================================================================\n",
            "                       coef    std err          t      P>|t|      [0.025      0.975]\n",
            "------------------------------------------------------------------------------------\n",
            "Intercept           -1.6524      0.606     -2.726      0.014      -2.931      -0.373\n",
            "np.log(trabalho)     0.3397      0.186      1.830      0.085      -0.052       0.732\n",
            "np.log(capital)      0.8460      0.093      9.062      0.000       0.649       1.043\n",
            "==============================================================================\n",
            "Omnibus:                        0.254   Durbin-Watson:                   0.426\n",
            "Prob(Omnibus):                  0.881   Jarque-Bera (JB):                0.438\n",
            "Skew:                          -0.037   Prob(JB):                        0.803\n",
            "Kurtosis:                       2.279   Cond. No.                     1.58e+03\n",
            "==============================================================================\n",
            "\n",
            "Warnings:\n",
            "[1] Standard Errors assume that the covariance matrix of the errors is correctly specified.\n",
            "[2] The condition number is large, 1.58e+03. This might indicate that there are\n",
            "strong multicollinearity or other numerical problems.\n"
          ],
          "name": "stdout"
        }
      ]
    },
    {
      "cell_type": "markdown",
      "metadata": {
        "id": "WIjYL0aYQ1C8"
      },
      "source": [
        "Dessa forma, a equação estimada foi:\n",
        "\n",
        "$\\hat{ln(pib)} = -1.6524 + 0.3397 .ln(capital) + 0.8460 . ln(trabalho)$"
      ]
    },
    {
      "cell_type": "markdown",
      "metadata": {
        "id": "b9LAoJ9RGQO5"
      },
      "source": [
        "### Plotagem dos resultados"
      ]
    },
    {
      "cell_type": "markdown",
      "metadata": {
        "id": "XQBSC0iZGVVp"
      },
      "source": [
        "_[(Assista aqui.)](https://youtu.be/V3yxEA9u07o?t=4198)_ Para a exibição dos resultados de forma gráfica, é necessária a importação do pacote ```matplotlib```. "
      ]
    },
    {
      "cell_type": "code",
      "metadata": {
        "id": "OSD2T0R_G_YR"
      },
      "source": [
        "import matplotlib.pyplot as plt"
      ],
      "execution_count": null,
      "outputs": []
    },
    {
      "cell_type": "markdown",
      "metadata": {
        "id": "_uugY5_cHMlQ"
      },
      "source": [
        "Abaixo, a função ```figure()``` é usada para configurações da janela de gráfico. o Argumento ```figsize``` está recebendo o array ```[10,6]``` que corresponde à largura e a algura da figura.\n",
        "\n",
        "As funções ```plot()``` estão  plotando o logatítmo dos valores observaos e os valores retornados pelo modelo de previsão. Os valores observados estão sendo diferenciados dos valores estimados por não terem largura de linha ```linewidth=0``` e um \"x\" como marcador ```maker=\"x\"```. Os valores estimados estão sendo gerados pelo método ```predict()``` aplicado sobre o modelo.\n",
        "\n",
        "Os resíduos estão sendo representados por gráficos de barra usando a função ```bar()```, gerados pelo objeto ```resid``` do modelo. Como gráficos de barras são pensados para variáveis categóricas, é necessádio informar os valores de y no argumento ```height``` e os valores de x no argumento ```x```."
      ]
    },
    {
      "cell_type": "code",
      "metadata": {
        "colab": {
          "base_uri": "https://localhost:8080/",
          "height": 391
        },
        "id": "b63fwBvaSd0n",
        "outputId": "22fdda61-a087-487d-f5f5-4494f766afdf"
      },
      "source": [
        "plt.figure(figsize=[10,6])\n",
        "plt.plot(np.log(dados.pib), linewidth=0, m\n",
        "\n",
        "marker=\"x\")\n",
        "plt.plot(modelo.predict())\n",
        "plt.bar(height=modelo.resid, x=dados.index)"
      ],
      "execution_count": null,
      "outputs": [
        {
          "output_type": "execute_result",
          "data": {
            "text/plain": [
              "<BarContainer object of 20 artists>"
            ]
          },
          "metadata": {
            "tags": []
          },
          "execution_count": 30
        },
        {
          "output_type": "display_data",
          "data": {
            "image/png": "[encoded data removed]",
            "text/plain": [
              "<Figure size 720x432 with 1 Axes>"
            ]
          },
          "metadata": {
            "tags": [],
            "needs_background": "light"
          }
        }
      ]
    },
    {
      "cell_type": "markdown",
      "metadata": {
        "id": "o3F0QX1JSp08"
      },
      "source": [
        "Abaixo, está o gráfico dos resíduos da regressão separadamente, em gráfico de linha."
      ]
    },
    {
      "cell_type": "code",
      "metadata": {
        "colab": {
          "base_uri": "https://localhost:8080/",
          "height": 282
        },
        "id": "FX4OYEOITWzI",
        "outputId": "f0d8623e-de63-4833-d50b-7d7d382fd688"
      },
      "source": [
        "plt.plot(modelo.resid)"
      ],
      "execution_count": null,
      "outputs": [
        {
          "output_type": "execute_result",
          "data": {
            "text/plain": [
              "[<matplotlib.lines.Line2D at 0x7feab91c5470>]"
            ]
          },
          "metadata": {
            "tags": []
          },
          "execution_count": 31
        },
        {
          "output_type": "display_data",
          "data": {
            "image/png": "[encoded data removed]",
            "text/plain": [
              "<Figure size 432x288 with 1 Axes>"
            ]
          },
          "metadata": {
            "tags": [],
            "needs_background": "light"
          }
        }
      ]
    },
    {
      "cell_type": "markdown",
      "metadata": {
        "id": "uQXWAbG6JNqM"
      },
      "source": [
        "## Considerações importantes"
      ]
    },
    {
      "cell_type": "markdown",
      "metadata": {
        "id": "Rz41dFFxJT68"
      },
      "source": [
        "Como o conteúdo que foi tratado do curso é bastante apenas inicia o assunto, é absolutamente necessária a evolução para além do que foi apresentado aqui. Abaixo, estão alguma dicas que contribuirão bastante para o desenvolvimento do uso do Python em Economia:\n",
        "\n",
        "* **A dependência por ajuda, consultas e tutoriais é normal:** \\\\\n",
        "No início, não se consegue fazer nada sem tutoriais, consultas ou até ajuda particular. Com o tempo, isso diminui drasticamente, mas nunca termina.\n",
        "\n",
        "* **No início, nada irá funcionar na primeira tentativa:** \\\\\n",
        "A inexperiência e desatenção faz com que cometamos inúmeros erros e nada vai funcionar de primeira. Isso é ótimo, pois a identificação e conserto desses erros é um dos melhores aprendizados que se pode ter.\n",
        "\n",
        "* **Se aproxime da comunidade e procure ajuda:** \\\\\n",
        "A comunidade é bastante receptiva a novatos, pois todos passaram por isso. Conte a ela seus problemas e peça ajuda. Um ótimo lugar pra isso é o [Slack do Data Hackers](http://datahackersbr.slack.com/).\n",
        "\n",
        "* **Se acostume a pesquisar em fóruns desde cedo:** \\\\\n",
        "Assim como é normal uma grande dependência em iniciantes absolutos; com o tempo, também se espera o desenvolvimento da  capacidade de obter soluções em fóruns, sem a necessidade de um auxílio particular. Atualmente, o [Stack Overflow](https://stackoverflow.com/) é o melhor lugar para isso.\n",
        "\n",
        "* **Aprenda a ler documentações:** \\\\\n",
        "Mesmo com tanta informação, somente a doumentação tem todas as informações. Se quiser dominar um método ou uma função, leia ela. Felizmente, as documentações do [Pandas](https://pandas.pydata.org/), do [NumPy](https://numpy.org/), do [statsmodels](https://www.statsmodels.org/stable/index.html), do [Matplotlib](https://matplotlib.org/), do próprio [Python](https://www.python.org/), etc., estão bem mais humanas que os livros de antigamente, contando com exemplos e linguagem acessível.\n",
        "\n",
        "* **Faça outros (bons) cursos:** \\\\\n",
        "Há cursos ótimos e gratuítos sobre o assunto. São recomendadíssimos os oferecidos pela [FGV](https://educacao-executiva.fgv.br/cursos/online/curta-media-duracao-online/introducao-ciencia-de-dados) (em português) e pelo [DataCamp](https://www.datacamp.com/courses/introduction-to-data-science-in-python) (em inglês), que são totalmente voltados à área de Ciência de Dados. Além disso, o site [Curso em Vídeo](https://www.cursoemvideo.com/course/python-3-mundo-1/) oferece 3 cursos de Python geral com uma qualidade impressionante.\n",
        "\n",
        "* **Seja grato e não se esqueça do seu início:** \\\\\n",
        "Com o desenvolvimento da independência, procure evitar o afastamento da comunidade. Retribua à ela a ajuda que recebeu auxiliando os novos iniciantes com suas dúvidas. O próprio ato de ajudar tem um efeito bastante grande no conhecimento.\n",
        "\n",
        "* **Python vs R? Por que não: Python e R?:** \\\\\n",
        "Existe uma certa rivalidade entre Python e R na ciência de dados encabeçada pelos adeptos mais fanáticos de cada linguagem, mas que é uma falsa dicotomia. É natural se especializar em uma linguagem, mas considere aprender ambas de um modo geral. Avalie qual atende melhor cada tarefa e experimente o uso conjunto, com bibliotecas como [RPy2](https://pypi.org/project/rpy2/), para Python, ou [Reticulate](https://github.com/rstudio/reticulate), para R, que permitem usar trechos de códigos de ambas as liguagens no mesmo código fonte.\n"
      ]
    }
  ]
}